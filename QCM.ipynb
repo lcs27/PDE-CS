{
 "cells": [
  {
   "cell_type": "code",
   "execution_count": 3,
   "id": "fewer-proxy",
   "metadata": {},
   "outputs": [
    {
     "name": "stdout",
     "output_type": "stream",
     "text": [
      "1771\n",
      "\n"
     ]
    }
   ],
   "source": [
    "from fenics import *\n",
    "import matplotlib.pyplot as plt\n",
    "\n",
    "mesh = IntervalMesh (26, 0.0, 3)\n",
    "V = FunctionSpace (mesh, 'P', 1)\n",
    "\n",
    "u_D = Expression('0',degree=0)\n",
    "\n",
    "def boundary(x):\n",
    "    tol = 1E-10\n",
    "    return abs(x[0])<tol or abs(x[0]-3)<tol\n",
    "\n",
    "bc = DirichletBC (V, u_D, boundary)\n",
    "\n",
    "u = TrialFunction(V)\n",
    "v = TestFunction(V)\n",
    "f = Constant(2)\n",
    "a = dot(grad(u),grad(v))*dx\n",
    "L = f*v*dx\n",
    "\n",
    "u = Function(V)\n",
    "solve(a==L, u, bc)\n",
    "\n",
    "print(\"%3.0f\\n\"%(u.vector()[7]*1000))"
   ]
  },
  {
   "cell_type": "code",
   "execution_count": null,
   "id": "typical-qatar",
   "metadata": {},
   "outputs": [],
   "source": []
  }
 ],
 "metadata": {
  "kernelspec": {
   "display_name": "Python 3",
   "language": "python",
   "name": "python3"
  },
  "language_info": {
   "codemirror_mode": {
    "name": "ipython",
    "version": 3
   },
   "file_extension": ".py",
   "mimetype": "text/x-python",
   "name": "python",
   "nbconvert_exporter": "python",
   "pygments_lexer": "ipython3",
   "version": "3.8.5"
  }
 },
 "nbformat": 4,
 "nbformat_minor": 5
}
