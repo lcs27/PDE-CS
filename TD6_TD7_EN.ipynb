{
 "cells": [
  {
   "cell_type": "markdown",
   "metadata": {},
   "source": [
    "<h1>Thermal invisibility<span class=\"tocSkip\"></span></h1>"
   ]
  },
  {
   "cell_type": "markdown",
   "metadata": {
    "toc": true
   },
   "source": [
    "<h1>Invisibilité thermique<span class=\"tocSkip\"></span></h1>\n",
    "<div class=\"toc\"><ul class=\"toc-item\"><li><span><a href=\"#Presentation-of-the-problem\" data-toc-modified-id=\"Presentation-of-the-problem-1\"><span class=\"toc-item-num\">1&nbsp;&nbsp;</span>Presentation of the problem</a></span></li><li><span><a href=\"#Making-the-problem-dimensionless-and-writing-the-variational-formulation\" data-toc-modified-id=\"Making-the-problem-dimensionless-and-writing-the-variational-formulation-2\"><span class=\"toc-item-num\">2&nbsp;&nbsp;</span>Making the problem dimensionless and writing the variational formulation</a></span></li><li><span><a href=\"#Procedure\" data-toc-modified-id=\"Procedure-3\"><span class=\"toc-item-num\">3&nbsp;&nbsp;</span>Procedure</a></span></li><li><span><a href=\"#1D:-Simulation-of-the-stationary-problem\" data-toc-modified-id=\"1D:-Simulation-of-the-stationary-problem-4\"><span class=\"toc-item-num\">4&nbsp;&nbsp;</span>1D: Simulation of the stationary problem</a></span><ul class=\"toc-item\"><li><span><a href=\"#Program-1-:-Resolution-in-dimension-1\" data-toc-modified-id=\"Program-1-:-Resolution-in-dimension-1-4.1\"><span class=\"toc-item-num\">4.1&nbsp;&nbsp;</span>Program 1 : Resolution in dimension 1</a></span></li><li><span><a href=\"#Numerical-order-of-the-$\\mathbb{P}1$-method.\" data-toc-modified-id=\"Numerical-order-of-the-$\\mathbb{P}1$-method.-4.2\"><span class=\"toc-item-num\">4.2&nbsp;&nbsp;</span>Numerical order of the $\\mathbb{P}1$ method.</a></span></li><li><span><a href=\"#Program-2-:-Resolution-of-the-same-problem-in-dimension-2\" data-toc-modified-id=\"Program-2-:-Resolution-of-the-same-problem-in-dimension-2-4.3\"><span class=\"toc-item-num\">4.3&nbsp;&nbsp;</span>Program 2 : Resolution of the same problem in dimension 2</a></span></li></ul></li><li><span><a href=\"#2D-:-Computing-an-integrated-flux\" data-toc-modified-id=\"2D-:-Computing-an-integrated-flux-5\"><span class=\"toc-item-num\">5&nbsp;&nbsp;</span>2D : Computing an integrated flux</a></span></li><li><span><a href=\"#2D-:-Simulation-of-a-stationary-problem-with-a-constant-conductivity-and-a-non-constant-influx\" data-toc-modified-id=\"2D-:-Simulation-of-a-stationary-problem-with-a-constant-conductivity-and-a-non-constant-influx-6\"><span class=\"toc-item-num\">6&nbsp;&nbsp;</span>2D : Simulation of a stationary problem with a constant conductivity and a non constant influx</a></span></li><li><span><a href=\"#2D-:-Simulation-of-the-stationary-problem-in-a-domain-with-a-fixed-hole\" data-toc-modified-id=\"2D-:-Simulation-of-the-stationary-problem-in-a-domain-with-a-fixed-hole-7\"><span class=\"toc-item-num\">7&nbsp;&nbsp;</span>2D : Simulation of the stationary problem in a domain with a fixed hole</a></span><ul class=\"toc-item\"><li><span><a href=\"#Adaptation-of-the-geometry\" data-toc-modified-id=\"Adaptation-of-the-geometry-7.1\"><span class=\"toc-item-num\">7.1&nbsp;&nbsp;</span>Adaptation of the geometry</a></span></li><li><span><a href=\"#Adaptation-of-the-conductivity\" data-toc-modified-id=\"Adaptation-of-the-conductivity-7.2\"><span class=\"toc-item-num\">7.2&nbsp;&nbsp;</span>Adaptation of the conductivity</a></span></li></ul></li><li><span><a href=\"#Simulation-of-the-stationary-problem-in-a-domain-with-holes-randomly-scattered\" data-toc-modified-id=\"Simulation-of-the-stationary-problem-in-a-domain-with-holes-randomly-scattered-8\"><span class=\"toc-item-num\">8&nbsp;&nbsp;</span>Simulation of the stationary problem in a domain with holes randomly scattered</a></span></li><li><span><a href=\"#Bibliography\" data-toc-modified-id=\"Bibliography-9\"><span class=\"toc-item-num\">9&nbsp;&nbsp;</span>Bibliography</a></span><ul class=\"toc-item\"><li><span><a href=\"#FEniCS\" data-toc-modified-id=\"FEniCS-9.1\"><span class=\"toc-item-num\">9.1&nbsp;&nbsp;</span>FEniCS</a></span></li><li><span><a href=\"#Markdown\" data-toc-modified-id=\"Markdown-9.2\"><span class=\"toc-item-num\">9.2&nbsp;&nbsp;</span>Markdown</a></span></li></ul></li></ul></div>"
   ]
  },
  {
   "cell_type": "markdown",
   "metadata": {},
   "source": [
    "**Preliminary remarks** The theoretical questions are denoted **Q** and the code questions **P**."
   ]
  },
  {
   "cell_type": "markdown",
   "metadata": {},
   "source": [
    "Answer done by **Chensheng Luo**. The **Solution** is my solution and  the **Correction** is the element given by teacher. **Solution-correction** means my solution is right.    "
   ]
  },
  {
   "cell_type": "markdown",
   "metadata": {},
   "source": [
    "Important predefined $\\LaTeX$ formulas are here:\n",
    "$\\newcommand{\\pder}[2]{\\frac{\\partial #1}{\\partial #2}}\n",
    "\\newcommand{\\laplace}{\\triangle}\n",
    "\\newcommand{\\scalaire}{\\cdot}\n",
    "\\newcommand{\\der}[2]{\\frac{d #1}{d #2}}\n",
    "\\newcommand{\\cst}{\\mathbf{constant}}\n",
    "$"
   ]
  },
  {
   "cell_type": "markdown",
   "metadata": {},
   "source": [
    "# Presentation of the problem"
   ]
  },
  {
   "cell_type": "markdown",
   "metadata": {},
   "source": [
    "![caption](images/domaine1.png)"
   ]
  },
  {
   "cell_type": "markdown",
   "metadata": {},
   "source": [
    "We are interested in the heat equation in a rectangle $\\Omega=ABCD$ with mixed boundary conditions and no source term:\n",
    "\n",
    "\n",
    "\\begin{equation}\\label{eq1:evol}\n",
    " \\tag{P} \\begin{cases}\n",
    "   \\rho c_{p} \\partial_t \\theta-div(\\kappa\\ grad(\\theta))=0\\mbox{ in  }\\Omega,\\\\\n",
    "(IC) \\quad \\theta(0,\\cdot)=\\theta_{0},\\\\(BC)\n",
    "\\begin{cases}\n",
    "\\kappa \\partial_{n}\\theta=0 \\qquad \\mbox{ on }[AB]\\\\\n",
    " \\theta=\\theta_{0}\\qquad \\mbox{ on }[BC]\\\\\n",
    "\\partial_{n}\\theta=0 \\qquad \\mbox{ on }[CD]\\\\\n",
    "\\kappa\\partial_{n}\\theta=\\psi\\qquad \\mbox{ on }[DA],\\\\\n",
    "\\end{cases}\n",
    "  \\end{cases}\n",
    "\\end{equation}\n",
    "\n",
    "\n",
    "where the numerical values are\n",
    "\n",
    "\n",
    "\\begin{equation*}\n",
    "\\begin{cases}\n",
    "X=d(A,B)=d(C,D)=10^{-2}\\,m\\\\\n",
    "Y=d(B,C)=d(D,A)=20\\,m\\\\\n",
    "\\rho=4000\\,kg.m^{-3}\\\\\n",
    "c_{p}=1000\\,J.kg^{-1}.K^{-1}\\\\\n",
    "\\theta^{0}=278\\,K\\\\\n",
    "\\theta_{0}\\mbox{ a function with average }275\\,K\\\\\n",
    "\\psi=\n",
    "\\psi_{0}=100 \\, W.m^{-2}\\\\\n",
    "\\end{cases}\n",
    "\\end{equation*}\n",
    "\n",
    "and $\\kappa:(x,y)\\mapsto diag(\\kappa_x(x,y),\\kappa_y(x,y))$, with $\\kappa_x$ and $\\kappa_y$ two given functions. Denote $\\kappa_n$ the diffusivity on the boundary by analogy with the notation of the normal derivative (you should complete the figure with the exterior normal and $\\kappa_n$ on the boundary).\n",
    "\n",
    "Besides, the evolution equation allows to describe a transient regime to a stationary state that solves\n",
    "\n",
    "\\begin{equation}\\tag{Pinf}\n",
    "  \\begin{cases}\n",
    "    -div(\\kappa\\ grad(\\theta))=0\\mbox{ in  }\\Omega,\\\\\n",
    "(CL)  \\end{cases}\n",
    "\\end{equation}"
   ]
  },
  {
   "cell_type": "markdown",
   "metadata": {},
   "source": [
    "The goal of this tutorial is to compute numerically the temperature on the border $[DA]$\n",
    "and the heat flux on $[BC]$ to understand how to validate\n",
    "the numerical simulations with respect to the exact solutions in dimension 1, then to compute efficiently the temperature in a domain with a hole in it.\n",
    "\n",
    "At first, we will validate the model in the case of a one-dimensional diffusion in $x$,  assuming that $\\psi$ is a constant function equal to $\\psi_{0}$."
   ]
  },
  {
   "cell_type": "markdown",
   "metadata": {},
   "source": [
    "**Q.1** Substantiate this claim, in the case where $\\psi$ and $\\theta_{0}$ are constants: why can we consider that the solution $\\theta$ does not depend on $y$ ? "
   ]
  },
  {
   "cell_type": "markdown",
   "metadata": {},
   "source": [
    "**Solution**    \n",
    "\n",
    "Invariant by y"
   ]
  },
  {
   "cell_type": "markdown",
   "metadata": {},
   "source": [
    "**Correction**  \n",
    "***If $\\theta_{0}$ and $\\psi$ are independant of $y$, is $\\theta(x,y)$ independant of y?***   \n",
    "We want to prove that $\\frac{\\partial \\theta}{\\partial y}=0$. let $z=\\frac{\\partial \\theta}{\\partial y}=0$, what equation does z satisfy?   \n",
    "the boundary equation of $z$:   \n",
    "- On AD:$\\kappa\\pder{z}{n}=-\\kappa\\pder{}{x}\\pder{\\theta}{y}=-\\kappa\\pder{}{y}\\pder{\\theta}{x}=\\kappa\\pder{}{y}\\psi=0$\n",
    "- On BC: $z=0$ because $\\pder{\\theta}{n}=0$\n",
    "- On AB and CD: $z=0$  \n",
    "\n",
    "Let us consider\n",
    "$E(t)=\\frac{1}{2}\\int_{\\Omega}\\rho c_{p} z(t,)^{2}$  \n",
    "$\\der{}{t}E(t)=\\frac{1}{2}\\int_{\\Omega}\\rho c_{p} z\\der{}{t}z(t,)$  \n",
    "Let's consider the PDE to replace $\\der{}{t}z(t,)$ by $\\laplace z(t,)$ so $ one $ and $\\der{}{t}E(t)=\\frac{1}{2}\\int_{\\Omega}\\rho c_{p} z\\laplace z(t,)$  \n",
    " = - $\\int_{\\Omega} k \\nabla z(t,) \\scalaire \\nabla z(t,)$+ $\\int_{ \\partial \\Omega} k z(t,) \\nabla z(t,)\\scalaire n$  \n",
    "$=-\\int_{\\Omega} k ||\\nabla z(t,)||^{2}\\leq = 0$   \n",
    "So the energy of system is proven to be decreasing.\n",
    "As $E(0)=\\frac{1}{2}\\int_{\\Omega}\\rho c_{p} z\\laplace z(0,)=0$\n",
    "Thus for any t, $E(t)\\leq 0$   \n",
    "Since $E(t)\\geq 0$, we have $E(t)=0$   \n",
    "thus $z(t,)=0$   \n",
    "thus $\\theta$ is independant of $y$"
   ]
  },
  {
   "cell_type": "markdown",
   "metadata": {},
   "source": [
    "**Q.2** Rewrite Problem (P) in one space dimension ($x$). We will denote it (P1)."
   ]
  },
  {
   "cell_type": "markdown",
   "metadata": {},
   "source": [
    "**Solution-correction**   \n",
    "The ensemble of equation is\n",
    "\\begin{equation}\n",
    "\\tag{P1}\n",
    "\\begin{cases}\n",
    "    \\rho c_{p} \\partial_t \\theta-\\pder{}{x}(\\kappa_{x}\\pder{\\theta}{x})=0\\mbox{ in  }\\Omega,\\\\\n",
    "(IC) \\quad \\theta(0,\\cdot)=\\theta_{0},\n",
    "\\\\(BC)\n",
    "\\begin{cases}\n",
    "\\theta=\\theta_{0}\\qquad x=X\\\\\n",
    "-\\kappa_{x}\\pder{\\theta}{x}=\\psi_{0}\\qquad x=0,\\\\\n",
    "\\end{cases}  \\end{cases}\n",
    "\\end{equation}\n",
    "\n"
   ]
  },
  {
   "cell_type": "markdown",
   "metadata": {},
   "source": [
    "**Q.3** Write the stationary system associated with (P1) and solve it explicitly.We will denote by $\\theta^{\\infty}$ the solution. "
   ]
  },
  {
   "cell_type": "markdown",
   "metadata": {},
   "source": [
    "**Solution-correction**   \n",
    "The equation is\n",
    "\\begin{equation}\n",
    "\\tag{P1stat}\n",
    "\\begin{cases}\n",
    "\\frac{d }{d x}(\\kappa_{x}\\frac{d \\theta}{d x})=0\\mbox{ in  }\\Omega,\\\\\n",
    "\\\\(BC)\n",
    "\\begin{cases}\n",
    "\\theta(x=X)=\\theta_{0}\\\\\n",
    "-\\kappa_{x}\\frac{d \\theta}{d x}(x=0)=\\psi_{0}\\\\\n",
    "\\end{cases}  \\end{cases}\n",
    "\\end{equation}\n",
    "So we have \n",
    "$-\\kappa_{x}\\frac{d \\theta}{d x}=\\cst$ and as $-\\kappa_{x}\\frac{d \\theta}{d x}(x=0)=\\psi_{0}$ so $-\\kappa_{x}\\frac{d \\theta}{d x}=\\psi_{0}$   \n",
    "Then $\\theta=-\\frac{\\psi_{0}}{\\kappa_{x}}x+\\cst$ , as $\\theta(x=X)=\\theta_{0}$ we have $\\theta(x)=-\\frac{\\psi_{0}}{\\kappa_{x}}(x-X)+\\theta_{0}$\n"
   ]
  },
  {
   "cell_type": "markdown",
   "metadata": {},
   "source": [
    "#  Making the problem dimensionless and writing the variational formulation"
   ]
  },
  {
   "cell_type": "markdown",
   "metadata": {},
   "source": [
    "**Q.1** Write (P) in a dimensionless form with respect to an observation time $T_{obs}$, an observation length in $x$, $X_{obs}$, an observation length in $y$, $Y_{obs}$,and the temperature $\\theta_{obs}$. \n",
    "\n",
    "We then get a dimensionless evolution problem:\n",
    "\n",
    "\\begin{equation}\\label{eq1:evol_adim}\n",
    "\\tag{Padim}\\begin{cases}\n",
    "\\partial_{tˆ^{*}}\\theta^{*}-\\partial_x(\\kappa_{x}^{*}\\partial_{x^{*}}\\theta^{*})-\\partial(\\kappa_{y}^{*}\\partial_{y^{*}}\\theta^{*})=0\\mbox{ dans }\\Omega^{*}\\\\\n",
    "(CL)^{*}\n",
    "\\begin{cases}\n",
    "\\kappa^*_n\\partial_{n^{*}}\\theta^{*}=0 \\qquad \\mbox{ on }[A^{*}B^{*}]\\\\\n",
    "\\theta^{*}=\\theta_0//\\theta_{obs} \\qquad \\mbox{ on }[B^{*}C^{*}]\\\\\n",
    "\\kappa^*_n\\partial_{n^{*}}\\theta=0 \\qquad \\mbox{ on }[C^{*}D^{*}]\\\\\n",
    "\\kappa^*_n\\partial_{n^{*}}\\theta^{*}=\\psi^{*} \\qquad \\mbox{ on }[D^{*}A^{*}],\\\\\n",
    "\\end{cases}\n",
    "\\end{cases}\n",
    "\\end{equation}\n",
    "\n",
    "where the starred quantities are dimensionless and $\\kappa_{x}^{*}$, $\\kappa_{y}^{*}$ and $\\kappa_n^{*}$ are the thermal diffusivity constants in each direction $x$, $y$ and normal."
   ]
  },
  {
   "cell_type": "markdown",
   "metadata": {},
   "source": [
    "**Solution** \n",
    "It's easy to proof this equation."
   ]
  },
  {
   "cell_type": "markdown",
   "metadata": {},
   "source": [
    "To simplify the notations, we omit from now on ${}^{*}$ and ${}_{obs}$. We assume that $\\psi\\in L^2([DA])$. We will now consider that $\theta_0$ is a constant function equal to $\theta_{obs}$"
   ]
  },
  {
   "cell_type": "markdown",
   "metadata": {},
   "source": [
    "**Q.2** Write the stationary problem associated with (Padim). It will be denoted (Padiminf)."
   ]
  },
  {
   "cell_type": "markdown",
   "metadata": {},
   "source": []
  },
  {
   "cell_type": "markdown",
   "metadata": {},
   "source": [
    "**Solution**   \n",
    "We have \n",
    "\n",
    "\\begin{equation}\\label{eq1:evol_adim_inf}\n",
    "\\begin{cases}\n",
    "-\\partial_{x}(\\kappa_{x}\\partial_{x}}\\theta)-\\partial(\\kappa_{y}\\partial_{y}\\theta)=0\\mbox{ dans }\\Omega\\\\\n",
    "(CL)\n",
    "\\begin{cases}\n",
    "\\kappa_n\\partial_{n}\\theta=0 \\qquad \\mbox{ on }[AB]\\\\\n",
    "\\theta=\\theta_0 \\qquad \\mbox{ on }[BC]\\\\\n",
    "\\kappa_n\\partial_{n}\\theta=0 \\qquad \\mbox{ on }[CD]\\\\\n",
    "\\kappa_n\\partial_{n}\\theta=\\psi\\qquad \\mbox{ on }[DA],\\\\\n",
    "\\end{cases}\n",
    "\\end{cases}\n",
    "\\end{equation}\n"
   ]
  },
  {
   "cell_type": "markdown",
   "metadata": {},
   "source": [
    "**Q.3** Write the variational formulation of (Padiminf). Is the solution unique ?"
   ]
  },
  {
   "cell_type": "markdown",
   "metadata": {},
   "source": [
    "**Solution** \n",
    "$a(\\theta,\\phi)=\\int_{\\Omega}\\kappa \\nabla \\theta \\nabla \\phi $"
   ]
  },
  {
   "cell_type": "markdown",
   "metadata": {},
   "source": [
    "#  Procedure"
   ]
  },
  {
   "cell_type": "markdown",
   "metadata": {},
   "source": [
    "We want to approach the solution of a problem of partial differential equations\n",
    "which are known to be well posed through analysis, using a\n",
    "finite element method. \n",
    "\n",
    "\"To approximate\" can mean several things:\n",
    "we want to visualize, determine the numerical order, etc. \n",
    "\n",
    "The procedure is the following (the steps are numbered Ci for step i of the code): \n",
    "- C0: we load the necessary modules;\n",
    "- C1: we define the constants;\n",
    "- C2: we start from a geometry by defining the edges by parametric curves: the outer edges being traversed **in the trigonometric direction** and the inner edges **in the clockwise direction** ;\n",
    "- C3: a mesh is produced;\n",
    "- C4: we define the space in which the approximate solution is to be found;\n",
    "- C5: we take into account the conditions at the edge;\n",
    "- C6: we define the variational formulation;\n",
    "- C7: we ask the module to solve the system;\n",
    "- C8: the solution is exploited.\n",
    "\n",
    "In the following, programs are provided. We will analyze them precisely with respect to\n",
    "the steps described above. \n"
   ]
  },
  {
   "cell_type": "markdown",
   "metadata": {},
   "source": [
    "#  1D: Simulation of the stationary problem"
   ]
  },
  {
   "cell_type": "markdown",
   "metadata": {},
   "source": [
    "We detail in the first part of this section a first program that solves an approximate problem in dimension 1, then the goal is for you to write a resolution code."
   ]
  },
  {
   "cell_type": "markdown",
   "metadata": {},
   "source": [
    "## Program 1 : Resolution in dimension 1"
   ]
  },
  {
   "cell_type": "markdown",
   "metadata": {},
   "source": [
    "<p style=\"color:red;\">     C0 : Loading the modules </p>"
   ]
  },
  {
   "cell_type": "code",
   "execution_count": 2,
   "metadata": {},
   "outputs": [],
   "source": [
    "from dolfin import *"
   ]
  },
  {
   "cell_type": "code",
   "execution_count": 3,
   "metadata": {},
   "outputs": [],
   "source": [
    "from fenics import *\n",
    "import matplotlib.pyplot as plt"
   ]
  },
  {
   "cell_type": "markdown",
   "metadata": {},
   "source": [
    "<p style=\"color:red;\"> C1 : Defining the constants </p>"
   ]
  },
  {
   "cell_type": "markdown",
   "metadata": {},
   "source": [
    "We fix the constants, the flux from the left $\\psi$ and the precision $tol$."
   ]
  },
  {
   "cell_type": "code",
   "execution_count": 4,
   "metadata": {},
   "outputs": [],
   "source": [
    "kappaadim=1\n",
    "psiadim=1\n",
    "tol = 1E-14"
   ]
  },
  {
   "cell_type": "markdown",
   "metadata": {},
   "source": [
    "<p style=\"color:red;\"> C2 : Defining the geometry </p>  "
   ]
  },
  {
   "cell_type": "markdown",
   "metadata": {},
   "source": [
    "It is a segment of dimensionless length 1."
   ]
  },
  {
   "cell_type": "code",
   "execution_count": 5,
   "metadata": {},
   "outputs": [],
   "source": [
    "X=1"
   ]
  },
  {
   "cell_type": "markdown",
   "metadata": {},
   "source": [
    "<p style=\"color:red;\"> C3: Constructing the mesh </p>"
   ]
  },
  {
   "cell_type": "code",
   "execution_count": 6,
   "metadata": {},
   "outputs": [
    {
     "name": "stdout",
     "output_type": "stream",
     "text": [
      "Plotting a UnitIntervalmesh1\n",
      "<dolfin.cpp.generation.UnitIntervalMesh object at 0x7fdbc2e650e0>\n"
     ]
    },
    {
     "data": {
      "image/png": "[encoded data removed]",
      "text/plain": [
       "<Figure size 432x288 with 1 Axes>"
      ]
     },
     "metadata": {
      "needs_background": "light"
     },
     "output_type": "display_data"
    }
   ],
   "source": [
    "nx1 = 10\n",
    "\n",
    "mesh1 = UnitIntervalMesh(nx1)\n",
    "\n",
    "print(\"Plotting a UnitIntervalmesh1\")\n",
    "plt.figure(1)\n",
    "plot(mesh1, title=\"Maillage du segment\")\n",
    "print(mesh1)"
   ]
  },
  {
   "cell_type": "markdown",
   "metadata": {},
   "source": [
    "<p style=\"color:red;\"> C4: Defining the space Hh in which the numerical solution will be searched </p>"
   ]
  },
  {
   "cell_type": "code",
   "execution_count": 6,
   "metadata": {},
   "outputs": [],
   "source": [
    "Hh1 = FunctionSpace(mesh1, 'P', 1)"
   ]
  },
  {
   "cell_type": "markdown",
   "metadata": {},
   "source": [
    "<p style=\"color:red;\"> C5: Taking into account the boundary conditions </p>"
   ]
  },
  {
   "cell_type": "markdown",
   "metadata": {},
   "source": [
    "The Dirichlet boundary conditions must be specified thanks to the FEniCS control DirichletBC. \n",
    "As was seen during the lecture, the Neumann boundary conditions impose the definision of a specific measure on the concerned bart of the boundary. So the different parts of the boundary need to be defined as objects."
   ]
  },
  {
   "cell_type": "code",
   "execution_count": 38,
   "metadata": {},
   "outputs": [],
   "source": [
    "# Definition of the specific boundaries, of the Dirichlet condition \n",
    "# and of the measure needed to define l1 (non homogeneous Neumann on the left edge)\n",
    "\n",
    "def RightEdge1(x, on_boundary):\n",
    "    return on_boundary and (abs(x[0] - 1) < tol) \n",
    "    # It should be x[0]=1 but there are some approximations\n",
    "\n",
    "bcD1 = DirichletBC(Hh1, Constant(2.0), RightEdge1)\n",
    "\n",
    "class LeftEdge1(SubDomain):\n",
    "    def inside(self, x, on_boundary):\n",
    "        return on_boundary and (abs(x[0] - 0) < tol)\n",
    "\n",
    "bcN1 = LeftEdge1()\n",
    "\n",
    "boundaries1 = MeshFunction(\"size_t\", mesh1, mesh1.topology().dim()-1, 0)\n",
    "\n",
    "bcN1.mark(boundaries1,0) # we give the label 0 to the edge x=0 in boundaries1\n",
    "\n",
    "ds1 = Measure(\"ds\", domain=mesh1, subdomain_data=boundaries1) "
   ]
  },
  {
   "cell_type": "markdown",
   "metadata": {},
   "source": [
    "<p style=\"color:red;\"> C6: Coding the variational formulation </p>"
   ]
  },
  {
   "cell_type": "code",
   "execution_count": 8,
   "metadata": {},
   "outputs": [],
   "source": [
    "u1 = TrialFunction(Hh1)\n",
    "v1 = TestFunction(Hh1)\n",
    "l1 = psiadim*v1*ds1(0) #psiadim*v1(0) since ds1(0) is the measure ds1 at x=0 (label 0)\n",
    "a1 = kappaadim*dot(grad(u1), grad(v1))*dx"
   ]
  },
  {
   "cell_type": "markdown",
   "metadata": {},
   "source": [
    "<p style=\"color:red;\"> C7: Solving the variational approximation (assembling the rigidity matrix and solving the linear system) </p>"
   ]
  },
  {
   "cell_type": "code",
   "execution_count": 9,
   "metadata": {},
   "outputs": [
    {
     "name": "stdout",
     "output_type": "stream",
     "text": [
      "Calling FFC just-in-time (JIT) compiler, this may take some time.\n"
     ]
    }
   ],
   "source": [
    "u1 = Function(Hh1)\n",
    "solve(a1 == l1, u1, bcD1)"
   ]
  },
  {
   "cell_type": "markdown",
   "metadata": {},
   "source": [
    "<p style=\"color:red;\"> C8: Plotting the solution </p>"
   ]
  },
  {
   "cell_type": "code",
   "execution_count": 10,
   "metadata": {
    "scrolled": true
   },
   "outputs": [
    {
     "data": {
      "text/plain": [
       "Text(0.5, 0, 'x')"
      ]
     },
     "execution_count": 10,
     "metadata": {},
     "output_type": "execute_result"
    },
    {
     "data": {
      "image/png": "[encoded data removed]",
      "text/plain": [
       "<Figure size 432x288 with 1 Axes>"
      ]
     },
     "metadata": {
      "needs_background": "light"
     },
     "output_type": "display_data"
    }
   ],
   "source": [
    "plt.figure(2)\n",
    "plot(u1,title='Solution numérique u1')\n",
    "plt.xlabel('x')"
   ]
  },
  {
   "cell_type": "markdown",
   "metadata": {},
   "source": [
    "**Q.1** Which quantity are we looking at? "
   ]
  },
  {
   "cell_type": "markdown",
   "metadata": {},
   "source": [
    "**Solution** \n",
    "$\\theta$\n"
   ]
  },
  {
   "cell_type": "markdown",
   "metadata": {},
   "source": [
    "**Q.2** What problem was solved?"
   ]
  },
  {
   "cell_type": "markdown",
   "metadata": {},
   "source": [
    "**Solution** "
   ]
  },
  {
   "cell_type": "markdown",
   "metadata": {},
   "source": [
    "One can obtain the stiffness matrix using the command *assemble*, that gives the stiffness matrix on all the nodes of the mesh **regardless the boundary conditions**. Careful, to take the Dirichlet boundary conditions into account, on needs to apply it by using the command *boundary_conditions.apply*. "
   ]
  },
  {
   "cell_type": "code",
   "execution_count": 11,
   "metadata": {
    "scrolled": true
   },
   "outputs": [
    {
     "name": "stdout",
     "output_type": "stream",
     "text": [
      "Calling FFC just-in-time (JIT) compiler, this may take some time.\n",
      "Calling FFC just-in-time (JIT) compiler, this may take some time.\n",
      "Calling FFC just-in-time (JIT) compiler, this may take some time.\n",
      "Calling FFC just-in-time (JIT) compiler, this may take some time.\n",
      "Calling FFC just-in-time (JIT) compiler, this may take some time.\n",
      "[[ 10. -10.   0.   0.   0.   0.   0.   0.   0.   0.   0.]\n",
      " [-10.  20. -10.   0.   0.   0.   0.   0.   0.   0.   0.]\n",
      " [  0. -10.  20. -10.   0.   0.   0.   0.   0.   0.   0.]\n",
      " [  0.   0. -10.  20. -10.   0.   0.   0.   0.   0.   0.]\n",
      " [  0.   0.   0. -10.  20. -10.   0.   0.   0.   0.   0.]\n",
      " [  0.   0.   0.   0. -10.  20. -10.   0.   0.   0.   0.]\n",
      " [  0.   0.   0.   0.   0. -10.  20. -10.   0.   0.   0.]\n",
      " [  0.   0.   0.   0.   0.   0. -10.  20. -10.   0.   0.]\n",
      " [  0.   0.   0.   0.   0.   0.   0. -10.  20. -10.   0.]\n",
      " [  0.   0.   0.   0.   0.   0.   0.   0. -10.  20. -10.]\n",
      " [  0.   0.   0.   0.   0.   0.   0.   0.   0. -10.  10.]]\n",
      "[1. 0. 0. 0. 0. 0. 0. 0. 0. 0. 1.]\n",
      "[[  1.   0.   0.   0.   0.   0.   0.   0.   0.   0.   0.]\n",
      " [-10.  20. -10.   0.   0.   0.   0.   0.   0.   0.   0.]\n",
      " [  0. -10.  20. -10.   0.   0.   0.   0.   0.   0.   0.]\n",
      " [  0.   0. -10.  20. -10.   0.   0.   0.   0.   0.   0.]\n",
      " [  0.   0.   0. -10.  20. -10.   0.   0.   0.   0.   0.]\n",
      " [  0.   0.   0.   0. -10.  20. -10.   0.   0.   0.   0.]\n",
      " [  0.   0.   0.   0.   0. -10.  20. -10.   0.   0.   0.]\n",
      " [  0.   0.   0.   0.   0.   0. -10.  20. -10.   0.   0.]\n",
      " [  0.   0.   0.   0.   0.   0.   0. -10.  20. -10.   0.]\n",
      " [  0.   0.   0.   0.   0.   0.   0.   0. -10.  20. -10.]\n",
      " [  0.   0.   0.   0.   0.   0.   0.   0.   0. -10.  10.]]\n",
      "[2. 0. 0. 0. 0. 0. 0. 0. 0. 0. 1.]\n",
      "[[0. ]\n",
      " [0.1]\n",
      " [0.2]\n",
      " [0.3]\n",
      " [0.4]\n",
      " [0.5]\n",
      " [0.6]\n",
      " [0.7]\n",
      " [0.8]\n",
      " [0.9]\n",
      " [1. ]]\n"
     ]
    }
   ],
   "source": [
    "A1=assemble(a1)\n",
    "b1=assemble(l1)\n",
    "print(A1.array())\n",
    "print(b1.get_local())\n",
    "bcD1.apply(A1,b1)\n",
    "print(A1.array())\n",
    "print(b1.get_local())\n",
    "coordinates =  mesh1.coordinates()\n",
    "print(coordinates)"
   ]
  },
  {
   "cell_type": "markdown",
   "metadata": {},
   "source": [
    "## Numerical order of the $\\mathbb{P}1$ method. "
   ]
  },
  {
   "cell_type": "markdown",
   "metadata": {},
   "source": [
    "**Q.1** How can we validate numerically the variational approximation, knowing the result of  Q.6 of Part 1 ?"
   ]
  },
  {
   "cell_type": "markdown",
   "metadata": {},
   "source": [
    "**Solution** "
   ]
  },
  {
   "cell_type": "markdown",
   "metadata": {},
   "source": [
    "**P.1** Plot the difference between the solution of the approximate problem and the function thetainf = Expression(\"2-x[0]\", degree=2). \n",
    "\n",
    "FEniCS keywords: *Expression*, *project*"
   ]
  },
  {
   "cell_type": "code",
   "execution_count": 42,
   "metadata": {},
   "outputs": [
    {
     "ename": "SyntaxError",
     "evalue": "invalid syntax (<ipython-input-42-5b6c3a20e955>, line 2)",
     "output_type": "error",
     "traceback": [
      "\u001b[0;36m  File \u001b[0;32m\"<ipython-input-42-5b6c3a20e955>\"\u001b[0;36m, line \u001b[0;32m2\u001b[0m\n\u001b[0;31m    help Expression\u001b[0m\n\u001b[0m         ^\u001b[0m\n\u001b[0;31mSyntaxError\u001b[0m\u001b[0;31m:\u001b[0m invalid syntax\n"
     ]
    }
   ],
   "source": [
    "# %load P_4_2_1.py\n"
   ]
  },
  {
   "cell_type": "markdown",
   "metadata": {},
   "source": [
    "**P.2** Compute the decimal logarithme of the $L^2$ and $H^1$ norm of the error.\n",
    "\n",
    "FEniCS keywords: *norm*"
   ]
  },
  {
   "cell_type": "code",
   "execution_count": 13,
   "metadata": {},
   "outputs": [],
   "source": [
    "# %load P_4_2_2.py\n"
   ]
  },
  {
   "cell_type": "markdown",
   "metadata": {},
   "source": [
    "**Q.2** Explain this result."
   ]
  },
  {
   "cell_type": "markdown",
   "metadata": {},
   "source": [
    "**Solution** "
   ]
  },
  {
   "cell_type": "markdown",
   "metadata": {},
   "source": [
    "*Remark* Generally, it is safer to consider the relative error norm(u-thetainf,'H1')/norm(thetainf,'H1'). Here, since norm(thetainf,'H1') is of order 1, it is not worth it."
   ]
  },
  {
   "cell_type": "markdown",
   "metadata": {},
   "source": [
    "**P.3** We assume until the end of this section that the source  $S$ is not zero. Assume only in this question that $S$ is uniform, equal to 1 over the whole domain. The exact solution is then $\\theta_{ex}:x\\mapsto \\theta^\\infty(x) + (1-x^2)/2$. Code the resolution by the method $\\mathbb{P}1$, as a function error_p1 taking as input the number of cells nx as giving as output the H1 norm of the error.\n",
    "\n",
    "FEniCS keywords: *SpatialCoordinate*, *conditional* (UFL language)"
   ]
  },
  {
   "cell_type": "code",
   "execution_count": 14,
   "metadata": {},
   "outputs": [],
   "source": [
    "# %load P_4_2_3.py\n"
   ]
  },
  {
   "cell_type": "markdown",
   "metadata": {},
   "source": [
    "**P.4** Compute the errors for nx = 8, 16, 32, 64, 128, 256, 512 and 1024. Plot the results taking the decimal logarithm of nx as abscissae."
   ]
  },
  {
   "cell_type": "code",
   "execution_count": 15,
   "metadata": {},
   "outputs": [],
   "source": [
    "# %load P_4_2_4.py\n"
   ]
  },
  {
   "cell_type": "markdown",
   "metadata": {},
   "source": [
    "**P.5** Give an estimate of the numerical order of the method for this problem."
   ]
  },
  {
   "cell_type": "code",
   "execution_count": 16,
   "metadata": {},
   "outputs": [],
   "source": [
    "# %load P_4_2_5.py\n"
   ]
  },
  {
   "cell_type": "markdown",
   "metadata": {},
   "source": [
    "**P.6** Modify the code of P.3 to include the sources & exact solutions $S:x\\mapsto -\\pi\\sin(\\pi x)$ & $\\theta_{ex}:x\\mapsto  1-\\sin(\\pi x)/\\pi$  and $S:x\\mapsto 8 H(x-1/2)$ & $\\theta_{ex}:x\\mapsto  -x+3-1_{x>1/2}(2x-1)^2$. Conclude."
   ]
  },
  {
   "cell_type": "markdown",
   "metadata": {},
   "source": [
    "**Solution** "
   ]
  },
  {
   "cell_type": "markdown",
   "metadata": {},
   "source": [
    "## Program 2 : Resolution of the same problem in dimension 2"
   ]
  },
  {
   "cell_type": "markdown",
   "metadata": {},
   "source": [
    "We go back to the initial problem (Padiminf), with no source. We now define the full geometry of the initial domain in space dimension 2.\n",
    "\n",
    "We give the code in dimension 2."
   ]
  },
  {
   "cell_type": "code",
   "execution_count": 17,
   "metadata": {},
   "outputs": [
    {
     "data": {
      "image/png": "[encoded data removed]",
      "text/plain": [
       "<Figure size 432x288 with 1 Axes>"
      ]
     },
     "metadata": {
      "needs_background": "light"
     },
     "output_type": "display_data"
    }
   ],
   "source": [
    "#C0\n",
    "#from dolfin import *\n",
    "#from __future__ import print_function\n",
    "#from fenics import *\n",
    "#import matplotlib.pyplot as plt\n",
    "\n",
    "#C1\n",
    "#kappaadim=1\n",
    "#psiadim=1\n",
    "#tol = 1E-14\n",
    "\n",
    "#C2\n",
    "#X=1\n",
    "Y=1\n",
    "\n",
    "#C3\n",
    "nx2=5\n",
    "ny2=5 \n",
    "\n",
    "mesh2 = RectangleMesh(Point(0.0, 0.0), Point(X, Y), nx2, ny2, diagonal=\"left\") \n",
    "\n",
    "plt.figure(1)\n",
    "plot(mesh2, title=\"Maillage du rectangle\")\n",
    "\n",
    "#C4\n",
    "Hh2 = FunctionSpace(mesh2, 'P', 1)\n",
    "\n",
    "#C5\n",
    "\n",
    "def RightEdge2(x, on_boundary):\n",
    "    return on_boundary and (abs(x[0] - 1) < tol) \n",
    "    \n",
    "reD2 = DirichletBC(Hh2, Constant(1.0), RightEdge2)\n",
    "\n",
    "class LeftEdge2(SubDomain):\n",
    "    def inside(self, x, on_boundary):\n",
    "        return on_boundary and (abs(x[0] - 0) < tol)\n",
    "    \n",
    "leN2 = LeftEdge2()\n",
    "\n",
    "boundaries2 = MeshFunction(\"size_t\", mesh2, mesh2.topology().dim()-1, 0)\n",
    "\n",
    "leN2.mark(boundaries2, 1)\n",
    "\n",
    "ds2 = Measure(\"ds\", domain=mesh2, subdomain_data=boundaries2)"
   ]
  },
  {
   "cell_type": "markdown",
   "metadata": {},
   "source": [
    "**P.1** Write the variational formulation of Problem (Padiminf) (step C6) and plot the solution."
   ]
  },
  {
   "cell_type": "code",
   "execution_count": 18,
   "metadata": {},
   "outputs": [],
   "source": [
    "# %load P_4_3_1.py\n"
   ]
  },
  {
   "cell_type": "markdown",
   "metadata": {},
   "source": [
    "**P.2** Solve the variational approximation (step C7)."
   ]
  },
  {
   "cell_type": "code",
   "execution_count": 19,
   "metadata": {},
   "outputs": [],
   "source": [
    "# %load P_4_3_2.py\n"
   ]
  },
  {
   "cell_type": "markdown",
   "metadata": {},
   "source": [
    "**P.3** Plot the solution (step C8)."
   ]
  },
  {
   "cell_type": "code",
   "execution_count": 20,
   "metadata": {},
   "outputs": [],
   "source": [
    "# %load P_4_3_3.py\n"
   ]
  },
  {
   "cell_type": "markdown",
   "metadata": {},
   "source": [
    "**Q.1** How can you act on the mesh to convince yourself that the solution does not depend on $y$?"
   ]
  },
  {
   "cell_type": "markdown",
   "metadata": {},
   "source": [
    "**Solution** "
   ]
  },
  {
   "cell_type": "markdown",
   "metadata": {},
   "source": [
    "**P.4** How can you implement the $\\mathbb{P}2$ method?"
   ]
  },
  {
   "cell_type": "markdown",
   "metadata": {},
   "source": [
    "**Solution** "
   ]
  },
  {
   "cell_type": "markdown",
   "metadata": {},
   "source": [
    "**P.5** Does the solution appear correct visually (you can plot the gradient of $u$)?\n",
    "\n",
    "FEniCS keywords: *grad*"
   ]
  },
  {
   "cell_type": "code",
   "execution_count": 21,
   "metadata": {},
   "outputs": [],
   "source": [
    "# %load P_4_3_5.py\n"
   ]
  },
  {
   "cell_type": "markdown",
   "metadata": {},
   "source": [
    "# 2D : Computing an integrated flux"
   ]
  },
  {
   "cell_type": "markdown",
   "metadata": {},
   "source": [
    "The integrated flux on an edge is the integral on this edge of the normal derivative of the temperature."
   ]
  },
  {
   "cell_type": "markdown",
   "metadata": {},
   "source": [
    "**Q.1** What is the value of the integrated flux at $x=0$ ? "
   ]
  },
  {
   "cell_type": "markdown",
   "metadata": {},
   "source": [
    "**Solution** "
   ]
  },
  {
   "cell_type": "markdown",
   "metadata": {},
   "source": [
    "**Q.2** What is the value of the integrated flux at $x=X$ ? "
   ]
  },
  {
   "cell_type": "markdown",
   "metadata": {},
   "source": [
    "**Solution** "
   ]
  },
  {
   "cell_type": "markdown",
   "metadata": {},
   "source": [
    "**P.1** Write a code that computes the integrated flux on the segment [DA], called influx, and integrated flux on the segment [BC], called outflux. Give as a result the absolute value of the difference.  \n",
    "\n",
    "FEniCS keywords: *assemble*, *mark*"
   ]
  },
  {
   "cell_type": "code",
   "execution_count": 22,
   "metadata": {},
   "outputs": [],
   "source": [
    "# %load P_5_1.py\n"
   ]
  },
  {
   "cell_type": "markdown",
   "metadata": {},
   "source": [
    "**Q.3** Conclude."
   ]
  },
  {
   "cell_type": "markdown",
   "metadata": {},
   "source": [
    "**Solution** \n"
   ]
  },
  {
   "cell_type": "markdown",
   "metadata": {},
   "source": [
    "**Remark** We need to define the right edge *RightEdge* as a class to be able to label it as a subdomain and integrate over this edge."
   ]
  },
  {
   "cell_type": "markdown",
   "metadata": {},
   "source": [
    "#  2D : Simulation of a stationary problem with a constant conductivity and a non constant influx"
   ]
  },
  {
   "cell_type": "markdown",
   "metadata": {},
   "source": [
    "Let the flux be $\\psi:y\\mapsto \\psi_{adim}y$."
   ]
  },
  {
   "cell_type": "markdown",
   "metadata": {},
   "source": [
    "**P.1** Insert $\\psi$ in code 2. Plot the mesh and the soltution as subfigures.\n",
    "\n",
    "matplotlib keywords : *subplot*, *colorbar* "
   ]
  },
  {
   "cell_type": "code",
   "execution_count": 23,
   "metadata": {},
   "outputs": [],
   "source": [
    "# %load P_6_1.py\n"
   ]
  },
  {
   "cell_type": "markdown",
   "metadata": {},
   "source": [
    "**P.2** Estimeate the numerical order of the  $\\mathbb{P}1$ and $\\mathbb{P}2$ methods for this problem. Since the closed form of the solution is not known, choose large integers nx4 and ny4, e. g. 200, and compare the solutions computed for smaller nx and nyto the solution obtained for the fine mesh mesh4. \n",
    "\n",
    "FEniCS keywords: *linregress*"
   ]
  },
  {
   "cell_type": "code",
   "execution_count": 24,
   "metadata": {},
   "outputs": [],
   "source": [
    "# %load P_6_2.py\n"
   ]
  },
  {
   "cell_type": "markdown",
   "metadata": {},
   "source": [
    "**P.3** Give the integrated fluxes at $x=0$ and $x=X$. Was the result predictible?"
   ]
  },
  {
   "cell_type": "code",
   "execution_count": 25,
   "metadata": {},
   "outputs": [],
   "source": [
    "# %load P_6_3.py\n"
   ]
  },
  {
   "cell_type": "markdown",
   "metadata": {},
   "source": [
    "**Solution** "
   ]
  },
  {
   "cell_type": "markdown",
   "metadata": {},
   "source": [
    "**Q.3** Conclure."
   ]
  },
  {
   "cell_type": "markdown",
   "metadata": {},
   "source": [
    "**Solution** "
   ]
  },
  {
   "cell_type": "markdown",
   "metadata": {},
   "source": [
    "#  2D : Simulation of the stationary problem in a domain with a fixed hole"
   ]
  },
  {
   "cell_type": "markdown",
   "metadata": {},
   "source": [
    "![caption](images/domaine2.png)"
   ]
  },
  {
   "cell_type": "markdown",
   "metadata": {},
   "source": [
    "## Adaptation of the geometry"
   ]
  },
  {
   "cell_type": "markdown",
   "metadata": {},
   "source": [
    "At first we consider that there is a circular **insulated** hole of radius $r$ at the center of the domain $\\Omega'$. The conditions on the boundary of the hole are thus homogeneous Neumann conditions."
   ]
  },
  {
   "cell_type": "markdown",
   "metadata": {},
   "source": [
    "In order to compare the results on mesh that have cells of approximately the same size, we fix the size of the domain, the position and the size of the hole, as well as the number of cells on an edge and the order of the method."
   ]
  },
  {
   "cell_type": "code",
   "execution_count": 26,
   "metadata": {},
   "outputs": [],
   "source": [
    "xc=X/2\n",
    "yc=Y/2\n",
    "r=0.1\n",
    "\n",
    "nx5=15\n",
    "ny5=15\n",
    "ordre = 1"
   ]
  },
  {
   "cell_type": "markdown",
   "metadata": {},
   "source": [
    "**P.1** Define the new domain and mesh it.\n",
    "\n",
    "FEniCS keywords: *Rectangle(Point(.,.),Point(.,.))*, *Circle(Point(.,.),.)*, *generate_mesh*"
   ]
  },
  {
   "cell_type": "code",
   "execution_count": 27,
   "metadata": {},
   "outputs": [],
   "source": [
    "# %load P_7_1_1.py\n"
   ]
  },
  {
   "cell_type": "markdown",
   "metadata": {},
   "source": [
    "**P.2** Solve the problem on the new domain."
   ]
  },
  {
   "cell_type": "code",
   "execution_count": 28,
   "metadata": {},
   "outputs": [],
   "source": [
    "# %load P_7_1_2.py\n"
   ]
  },
  {
   "cell_type": "markdown",
   "metadata": {},
   "source": [
    "**P.3** Compare the influxes ant outfluxes obtained with the $\\mathbb{P}1$ method and the $\\mathbb{P}2$ method and comment the result."
   ]
  },
  {
   "cell_type": "code",
   "execution_count": 29,
   "metadata": {},
   "outputs": [],
   "source": [
    "# %load P_7_1_3.py\n"
   ]
  },
  {
   "cell_type": "markdown",
   "metadata": {},
   "source": [
    "## Adaptation of the conductivity"
   ]
  },
  {
   "cell_type": "markdown",
   "metadata": {},
   "source": [
    "Consider now the whole domain $\\Omega$ with no hole and a variable conductivity ${\\kappa_{var}:(x,y)\\mapsto (\\kappa-10^{-8})\\mathbf{1}_{\\{(x,y)\\in\\Omega \\,:\\, (x-X/2)^{2}+(y-Y/2)^{2}>r^{2}\\}}}+10^{-8}$."
   ]
  },
  {
   "cell_type": "markdown",
   "metadata": {},
   "source": [
    "**P.1** Code the second approach.\n",
    "\n",
    "FEniCS keywords: *SpatialCoordinate*, *conditional*"
   ]
  },
  {
   "cell_type": "code",
   "execution_count": 30,
   "metadata": {},
   "outputs": [],
   "source": [
    "# %load P_7_2_1.py\n"
   ]
  },
  {
   "cell_type": "markdown",
   "metadata": {},
   "source": [
    "**P.2**  Compute the difference between the influxes and outfluxes computed with these two approaches. \n",
    "\n",
    "*Remark*  The difference between the influx and the outflux obtained with the variable conductivity method is more stable wrt a variation of the radius of the hole than the method consisting in changing of geometry, which requires remeshing and increases the condition number of the matrix."
   ]
  },
  {
   "cell_type": "code",
   "execution_count": 31,
   "metadata": {},
   "outputs": [],
   "source": [
    "# %load P_7_2_2.py\n"
   ]
  },
  {
   "cell_type": "markdown",
   "metadata": {},
   "source": [
    "**P.3** Create another mesh with a slightly larger hole and interpolate the solutions u5 et u6 on this domain. Plot the difference. Conclude."
   ]
  },
  {
   "cell_type": "code",
   "execution_count": 32,
   "metadata": {},
   "outputs": [],
   "source": [
    "# %load P_7_2_3.py\n"
   ]
  },
  {
   "cell_type": "markdown",
   "metadata": {},
   "source": [
    "**Q.1** Why do we fix $\\kappa=10^{-8}$ in the hole? Try $0$ instead."
   ]
  },
  {
   "cell_type": "markdown",
   "metadata": {},
   "source": [
    "**Solution**"
   ]
  },
  {
   "cell_type": "markdown",
   "metadata": {},
   "source": [
    "# Simulation of the stationary problem in a domain with holes randomly scattered"
   ]
  },
  {
   "cell_type": "markdown",
   "metadata": {},
   "source": [
    "We now want to solve numerically the problem in a domain with holes. Their number is random and follows a Poisson law with parameter 5. Their centers are random and follow a normal law with mean the center of the domain and variance 0.1. Their radii are random and follow an exponential law with parameter 5."
   ]
  },
  {
   "cell_type": "code",
   "execution_count": 33,
   "metadata": {},
   "outputs": [],
   "source": [
    "param_poisson = 5\n",
    "scale_exp = 1/5\n",
    "var_c = 0.1\n",
    "nx8 = 100\n",
    "ny8 = 100\n",
    "ordre = 2"
   ]
  },
  {
   "cell_type": "markdown",
   "metadata": {},
   "source": [
    "**P.1** Draw up the number of holes, their radii and their centers.\n",
    "\n",
    "numpy keywords : *poisson*, *exponential*, *normal*"
   ]
  },
  {
   "cell_type": "code",
   "execution_count": 34,
   "metadata": {},
   "outputs": [],
   "source": [
    "# %load P_8_1.py\n"
   ]
  },
  {
   "cell_type": "markdown",
   "metadata": {},
   "source": [
    "**P.2** Define an adapted conductivity and plot it."
   ]
  },
  {
   "cell_type": "code",
   "execution_count": 35,
   "metadata": {},
   "outputs": [],
   "source": [
    "# %load P_8_2.py\n"
   ]
  },
  {
   "cell_type": "markdown",
   "metadata": {},
   "source": [
    "**P.3** Solve the problem numerically."
   ]
  },
  {
   "cell_type": "code",
   "execution_count": 36,
   "metadata": {},
   "outputs": [],
   "source": [
    "# %load P_8_3.py\n"
   ]
  },
  {
   "cell_type": "markdown",
   "metadata": {},
   "source": [
    "**P.4** Is the term \"thermal invisibility\" still relevant ?"
   ]
  },
  {
   "cell_type": "code",
   "execution_count": 37,
   "metadata": {},
   "outputs": [],
   "source": [
    "# %load P_8_4.py\n"
   ]
  },
  {
   "cell_type": "markdown",
   "metadata": {},
   "source": [
    "# Bibliography"
   ]
  },
  {
   "cell_type": "markdown",
   "metadata": {
    "heading_collapsed": true
   },
   "source": [
    "## FEniCS\n",
    "\n",
    "Documentation : https://fenicsproject.org/documentation/\n",
    "\n",
    "Getting started : http://www-users.math.umn.edu/~arnold/8445/fenics-getting-started.pdf\n",
    "\n",
    "UFL : https://fenics.readthedocs.io/projects/ufl/en/latest/manual/form_language.html\n",
    "\n"
   ]
  },
  {
   "cell_type": "markdown",
   "metadata": {},
   "source": [
    "## Markdown\n",
    "\n",
    "https://github.com/adam-p/markdown-here/wiki/Markdown-Cheatsheet\n",
    "\n"
   ]
  },
  {
   "cell_type": "code",
   "execution_count": null,
   "metadata": {},
   "outputs": [],
   "source": []
  },
  {
   "cell_type": "code",
   "execution_count": null,
   "metadata": {},
   "outputs": [],
   "source": []
  }
 ],
 "metadata": {
  "kernelspec": {
   "display_name": "Python 3",
   "language": "python",
   "name": "python3"
  },
  "language_info": {
   "codemirror_mode": {
    "name": "ipython",
    "version": 3
   },
   "file_extension": ".py",
   "mimetype": "text/x-python",
   "name": "python",
   "nbconvert_exporter": "python",
   "pygments_lexer": "ipython3",
   "version": "3.8.5"
  },
  "toc": {
   "base_numbering": 1,
   "nav_menu": {},
   "number_sections": true,
   "sideBar": true,
   "skip_h1_title": false,
   "title_cell": "Invisibilité thermique",
   "title_sidebar": "Invisibilité thermique",
   "toc_cell": true,
   "toc_position": {
    "height": "calc(100% - 180px)",
    "left": "10px",
    "top": "150px",
    "width": "189px"
   },
   "toc_section_display": true,
   "toc_window_display": true
  }
 },
 "nbformat": 4,
 "nbformat_minor": 2
}
