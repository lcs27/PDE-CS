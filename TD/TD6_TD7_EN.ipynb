{
 "cells": [
  {
   "cell_type": "markdown",
   "metadata": {},
   "source": [
    "<h1>Thermal invisibility<span class=\"tocSkip\"></span></h1>"
   ]
  },
  {
   "cell_type": "markdown",
   "metadata": {
    "toc": true
   },
   "source": [
    "<h1>Invisibilité thermique<span class=\"tocSkip\"></span></h1>\n",
    "<div class=\"toc\"><ul class=\"toc-item\"><li><span><a href=\"#Presentation-of-the-problem\" data-toc-modified-id=\"Presentation-of-the-problem-1\"><span class=\"toc-item-num\">1&nbsp;&nbsp;</span>Presentation of the problem</a></span></li><li><span><a href=\"#Making-the-problem-dimensionless-and-writing-the-variational-formulation\" data-toc-modified-id=\"Making-the-problem-dimensionless-and-writing-the-variational-formulation-2\"><span class=\"toc-item-num\">2&nbsp;&nbsp;</span>Making the problem dimensionless and writing the variational formulation</a></span></li><li><span><a href=\"#Procedure\" data-toc-modified-id=\"Procedure-3\"><span class=\"toc-item-num\">3&nbsp;&nbsp;</span>Procedure</a></span></li><li><span><a href=\"#1D:-Simulation-of-the-stationary-problem\" data-toc-modified-id=\"1D:-Simulation-of-the-stationary-problem-4\"><span class=\"toc-item-num\">4&nbsp;&nbsp;</span>1D: Simulation of the stationary problem</a></span><ul class=\"toc-item\"><li><span><a href=\"#Program-1-:-Resolution-in-dimension-1\" data-toc-modified-id=\"Program-1-:-Resolution-in-dimension-1-4.1\"><span class=\"toc-item-num\">4.1&nbsp;&nbsp;</span>Program 1 : Resolution in dimension 1</a></span></li><li><span><a href=\"#Numerical-order-of-the-$\\mathbb{P}1$-method.\" data-toc-modified-id=\"Numerical-order-of-the-$\\mathbb{P}1$-method.-4.2\"><span class=\"toc-item-num\">4.2&nbsp;&nbsp;</span>Numerical order of the $\\mathbb{P}1$ method.</a></span></li><li><span><a href=\"#Program-2-:-Resolution-of-the-same-problem-in-dimension-2\" data-toc-modified-id=\"Program-2-:-Resolution-of-the-same-problem-in-dimension-2-4.3\"><span class=\"toc-item-num\">4.3&nbsp;&nbsp;</span>Program 2 : Resolution of the same problem in dimension 2</a></span></li></ul></li><li><span><a href=\"#2D-:-Computing-an-integrated-flux\" data-toc-modified-id=\"2D-:-Computing-an-integrated-flux-5\"><span class=\"toc-item-num\">5&nbsp;&nbsp;</span>2D : Computing an integrated flux</a></span></li><li><span><a href=\"#2D-:-Simulation-of-a-stationary-problem-with-a-constant-conductivity-and-a-non-constant-influx\" data-toc-modified-id=\"2D-:-Simulation-of-a-stationary-problem-with-a-constant-conductivity-and-a-non-constant-influx-6\"><span class=\"toc-item-num\">6&nbsp;&nbsp;</span>2D : Simulation of a stationary problem with a constant conductivity and a non constant influx</a></span></li><li><span><a href=\"#2D-:-Simulation-of-the-stationary-problem-in-a-domain-with-a-fixed-hole\" data-toc-modified-id=\"2D-:-Simulation-of-the-stationary-problem-in-a-domain-with-a-fixed-hole-7\"><span class=\"toc-item-num\">7&nbsp;&nbsp;</span>2D : Simulation of the stationary problem in a domain with a fixed hole</a></span><ul class=\"toc-item\"><li><span><a href=\"#Adaptation-of-the-geometry\" data-toc-modified-id=\"Adaptation-of-the-geometry-7.1\"><span class=\"toc-item-num\">7.1&nbsp;&nbsp;</span>Adaptation of the geometry</a></span></li><li><span><a href=\"#Adaptation-of-the-conductivity\" data-toc-modified-id=\"Adaptation-of-the-conductivity-7.2\"><span class=\"toc-item-num\">7.2&nbsp;&nbsp;</span>Adaptation of the conductivity</a></span></li></ul></li><li><span><a href=\"#Simulation-of-the-stationary-problem-in-a-domain-with-holes-randomly-scattered\" data-toc-modified-id=\"Simulation-of-the-stationary-problem-in-a-domain-with-holes-randomly-scattered-8\"><span class=\"toc-item-num\">8&nbsp;&nbsp;</span>Simulation of the stationary problem in a domain with holes randomly scattered</a></span></li><li><span><a href=\"#Bibliography\" data-toc-modified-id=\"Bibliography-9\"><span class=\"toc-item-num\">9&nbsp;&nbsp;</span>Bibliography</a></span><ul class=\"toc-item\"><li><span><a href=\"#FEniCS\" data-toc-modified-id=\"FEniCS-9.1\"><span class=\"toc-item-num\">9.1&nbsp;&nbsp;</span>FEniCS</a></span></li><li><span><a href=\"#Markdown\" data-toc-modified-id=\"Markdown-9.2\"><span class=\"toc-item-num\">9.2&nbsp;&nbsp;</span>Markdown</a></span></li></ul></li></ul></div>"
   ]
  },
  {
   "cell_type": "markdown",
   "metadata": {},
   "source": [
    "**Preliminary remarks** The theoretical questions are denoted **Q** and the code questions **P**."
   ]
  },
  {
   "cell_type": "markdown",
   "metadata": {},
   "source": [
    "Answer done by **Chensheng Luo**. The **Solution** is my solution and  the **Correction** is the element given by teacher. **Solution-correction** means my solution is right.    "
   ]
  },
  {
   "cell_type": "markdown",
   "metadata": {},
   "source": [
    "Important predefined $\\LaTeX$ formulas are here:\n",
    "\n",
    "$\n",
    "\\newcommand{\\Deri}[2]{\\frac{\\mathrm{d} #1}{\\mathrm{d} #2}}\n",
    "\\newcommand{\\ParDeri}[2]{\\frac{\\partial #1}{\\partial #2}}\n",
    "\\newcommand{\\DeriN}[3]{\\frac{\\mathrm{d}^{#3} #1}{\\mathrm{d} #2^{#3}}}\n",
    "\\newcommand{\\ParDeriN}[3]{\\frac{\\partial^{#3} #1}{\\partial #2^{#3}}}\n",
    "\\newcommand{\\cst}{\\mathbf{constant}}\n",
    "\\def\\vB {\\boldsymbol{v}}\n",
    "\\def\\aB {\\boldsymbol{a}}\n",
    "\\def\\omegaB {\\boldsymbol{\\omega}}\n",
    "\\def\\HB {\\boldsymbol{\\H}}\n",
    "\\def\\laplace{\\triangle}\n",
    "\\def\\scalaire{\\cdot}\n",
    "$"
   ]
  },
  {
   "cell_type": "markdown",
   "metadata": {},
   "source": [
    "# Presentation of the problem"
   ]
  },
  {
   "cell_type": "markdown",
   "metadata": {},
   "source": [
    "![caption](images/domaine1.png)"
   ]
  },
  {
   "cell_type": "markdown",
   "metadata": {},
   "source": [
    "We are interested in the heat equation in a rectangle $\\Omega=ABCD$ with mixed boundary conditions and no source term:\n",
    "\n",
    "\n",
    "\\begin{equation}\\label{eq1:evol}\n",
    " \\tag{P} \\begin{cases}\n",
    "   \\rho c_{p} \\partial_t \\theta-div(\\kappa\\ grad(\\theta))=0\\mbox{ in  }\\Omega,\\\\\n",
    "(IC) \\quad \\theta(0,\\cdot)=\\theta_{0},\\\\(BC)\n",
    "\\begin{cases}\n",
    "\\kappa \\partial_{n}\\theta=0 \\qquad \\mbox{ on }[AB]\\\\\n",
    " \\theta=\\theta_{0}\\qquad \\mbox{ on }[BC]\\\\\n",
    "\\partial_{n}\\theta=0 \\qquad \\mbox{ on }[CD]\\\\\n",
    "\\kappa\\partial_{n}\\theta=\\psi\\qquad \\mbox{ on }[DA],\\\\\n",
    "\\end{cases}\n",
    "  \\end{cases}\n",
    "\\end{equation}\n",
    "\n",
    "\n",
    "where the numerical values are\n",
    "\n",
    "\n",
    "\\begin{equation*}\n",
    "\\begin{cases}\n",
    "X=d(A,B)=d(C,D)=10^{-2}\\,m\\\\\n",
    "Y=d(B,C)=d(D,A)=20\\,m\\\\\n",
    "\\rho=4000\\,kg.m^{-3}\\\\\n",
    "c_{p}=1000\\,J.kg^{-1}.K^{-1}\\\\\n",
    "\\theta^{0}=278\\,K\\\\\n",
    "\\theta_{0}\\mbox{ a function with average }275\\,K\\\\\n",
    "\\psi=\n",
    "\\psi_{0}=100 \\, W.m^{-2}\\\\\n",
    "\\end{cases}\n",
    "\\end{equation*}\n",
    "\n",
    "and $\\kappa:(x,y)\\mapsto diag(\\kappa_x(x,y),\\kappa_y(x,y))$, with $\\kappa_x$ and $\\kappa_y$ two given functions. Denote $\\kappa_n$ the diffusivity on the boundary by analogy with the notation of the normal derivative (you should complete the figure with the exterior normal and $\\kappa_n$ on the boundary).\n",
    "\n",
    "Besides, the evolution equation allows to describe a transient regime to a stationary state that solves\n",
    "\n",
    "\\begin{equation}\\tag{Pinf}\n",
    "  \\begin{cases}\n",
    "    -div(\\kappa\\ grad(\\theta))=0\\mbox{ in  }\\Omega,\\\\\n",
    "(CL)  \\end{cases}\n",
    "\\end{equation}"
   ]
  },
  {
   "cell_type": "markdown",
   "metadata": {},
   "source": [
    "The goal of this tutorial is to compute numerically the temperature on the border $[DA]$\n",
    "and the heat flux on $[BC]$ to understand how to validate\n",
    "the numerical simulations with respect to the exact solutions in dimension 1, then to compute efficiently the temperature in a domain with a hole in it.\n",
    "\n",
    "At first, we will validate the model in the case of a one-dimensional diffusion in $x$,  assuming that $\\psi$ is a constant function equal to $\\psi_{0}$."
   ]
  },
  {
   "cell_type": "markdown",
   "metadata": {},
   "source": [
    "**Q.1** Substantiate this claim, in the case where $\\psi$ and $\\theta_{0}$ are constants: why can we consider that the solution $\\theta$ does not depend on $y$ ? "
   ]
  },
  {
   "cell_type": "markdown",
   "metadata": {},
   "source": [
    "**Solution**    \n",
    "\n",
    "Invariant by y"
   ]
  },
  {
   "cell_type": "markdown",
   "metadata": {},
   "source": [
    "**Correction**  \n",
    "***If $\\theta_{0}$ and $\\psi$ are independant of $y$, is $\\theta(x,y)$ independant of y?***   \n",
    "We want to prove that $\\frac{\\partial \\theta}{\\partial y}=0$. let $z=\\frac{\\partial \\theta}{\\partial y}=0$, what equation does z satisfy?   \n",
    "the boundary equation of $z$:   \n",
    "- On AD:$\\kappa \\ParDeri{z}{n}=-\\kappa \\ParDeri{}{x} \\ParDeri{\\theta}{y}=-\\kappa \\ParDeri{}{y} \\ParDeri{\\theta}{x}=\\kappa \\ParDeri{}{y}\\psi=0$\n",
    "- On BC: $z=0$ because $\\ParDeri{\\theta}{n}=0$\n",
    "- On AB and CD: $z=0$  \n",
    "\n",
    "Let us consider\n",
    "$E(t)=\\frac{1}{2}\\int_{\\Omega}\\rho c_{p} z(t,)^{2}$  \n",
    "$\\ParDeri{}{t}E(t)=\\frac{1}{2}\\int_{\\Omega}\\rho c_{p} z\\ParDeri{}{t}z(t,)$  \n",
    "Let's consider the PDE to replace $\\Deri{}{t}z(t,)$ by $\\laplace z(t,)$ so $ one $ and $\\Deri{}{t}E(t)=\\frac{1}{2}\\int_{\\Omega}\\rho c_{p} z\\laplace z(t,)$  \n",
    " = - $\\int_{\\Omega} k \\nabla z(t,) \\scalaire \\nabla z(t,)$+ $\\int_{ \\partial \\Omega} k z(t,) \\nabla z(t,)\\scalaire n$  \n",
    "$=-\\int_{\\Omega} k ||\\nabla z(t,)||^{2}\\leq 0$   \n",
    "So the energy of system is proven to be decreasing.\n",
    "As $E(0)=\\frac{1}{2}\\int_{\\Omega}\\rho c_{p} z\\laplace z(0,)=0$\n",
    "Thus for any t, $E(t)\\leq 0$   \n",
    "Since $E(t)\\geq 0$, we have $E(t)=0$   \n",
    "thus $z(t,)=0$   \n",
    "thus $\\theta$ is independant of $y$"
   ]
  },
  {
   "cell_type": "markdown",
   "metadata": {},
   "source": [
    "**Q.2** Rewrite Problem (P) in one space dimension ($x$). We will denote it (P1)."
   ]
  },
  {
   "cell_type": "markdown",
   "metadata": {},
   "source": [
    "**Solution-correction**   \n",
    "The ensemble of equation is\n",
    "\\begin{equation}\n",
    "\\tag{P1}\n",
    "\\begin{cases}\n",
    "    \\rho c_{p} \\partial_t \\theta-\\ParDeri{}{x}(\\kappa_{x}\\ParDeri{\\theta}{x})=0\\mbox{ in  }\\Omega,\\\\\n",
    "(IC) \\quad \\theta(0,\\cdot)=\\theta_{0},\n",
    "\\\\(BC)\n",
    "\\begin{cases}\n",
    "\\theta=\\theta_{0}\\qquad x=X\\\\\n",
    "-\\kappa_{x}\\ParDeri{\\theta}{x}=\\psi_{0}\\qquad x=0,\\\\\n",
    "\\end{cases}  \\end{cases}\n",
    "\\end{equation}\n",
    "\n"
   ]
  },
  {
   "cell_type": "markdown",
   "metadata": {},
   "source": [
    "**Q.3** Write the stationary system associated with (P1) and solve it explicitly.We will denote by $\\theta^{\\infty}$ the solution. "
   ]
  },
  {
   "cell_type": "markdown",
   "metadata": {},
   "source": [
    "**Solution-correction**   \n",
    "The equation is\n",
    "\\begin{equation}\n",
    "\\tag{P1stat}\n",
    "\\begin{cases}\n",
    "\\frac{d }{d x}(\\kappa_{x}\\frac{d \\theta}{d x})=0\\mbox{ in  }\\Omega,\\\\\n",
    "\\\\(BC)\n",
    "\\begin{cases}\n",
    "\\theta(x=X)=\\theta_{0}\\\\\n",
    "-\\kappa_{x}\\frac{d \\theta}{d x}(x=0)=\\psi_{0}\\\\\n",
    "\\end{cases}  \\end{cases}\n",
    "\\end{equation}\n",
    "So we have \n",
    "$-\\kappa_{x}\\frac{d \\theta}{d x}=\\cst$ and as $-\\kappa_{x}\\frac{d \\theta}{d x}(x=0)=\\psi_{0}$ so $-\\kappa_{x}\\frac{d \\theta}{d x}=\\psi_{0}$   \n",
    "Then $\\theta=-\\frac{\\psi_{0}}{\\kappa_{x}}x+\\cst$ , as $\\theta(x=X)=\\theta_{0}$ we have $\\theta(x)=-\\frac{\\psi_{0}}{\\kappa_{x}}(x-X)+\\theta_{0}$\n"
   ]
  },
  {
   "cell_type": "markdown",
   "metadata": {},
   "source": [
    "#  Making the problem dimensionless and writing the variational formulation"
   ]
  },
  {
   "cell_type": "markdown",
   "metadata": {},
   "source": [
    "**Q.1** Write (P) in a dimensionless form with respect to an observation time $T_{obs}$, an observation length in $x$, $X_{obs}$, an observation length in $y$, $Y_{obs}$,and the temperature $\\theta_{obs}$. \n",
    "\n",
    "We then get a dimensionless evolution problem:\n",
    "\n",
    "\\begin{equation}\\label{eq1:evol_adim}\n",
    "\\tag{Padim}\\begin{cases}\n",
    "\\partial_{tˆ^{*}}\\theta^{*}-\\partial_x(\\kappa_{x}^{*}\\partial_{x^{*}}\\theta^{*})-\\partial(\\kappa_{y}^{*}\\partial_{y^{*}}\\theta^{*})=0\\mbox{ dans }\\Omega^{*}\\\\\n",
    "(CL)^{*}\n",
    "\\begin{cases}\n",
    "\\kappa^*_n\\partial_{n^{*}}\\theta^{*}=0 \\qquad \\mbox{ on }[A^{*}B^{*}]\\\\\n",
    "\\theta^{*}=\\theta_0//\\theta_{obs} \\qquad \\mbox{ on }[B^{*}C^{*}]\\\\\n",
    "\\kappa^*_n\\partial_{n^{*}}\\theta=0 \\qquad \\mbox{ on }[C^{*}D^{*}]\\\\\n",
    "\\kappa^*_n\\partial_{n^{*}}\\theta^{*}=\\psi^{*} \\qquad \\mbox{ on }[D^{*}A^{*}],\\\\\n",
    "\\end{cases}\n",
    "\\end{cases}\n",
    "\\end{equation}\n",
    "\n",
    "where the starred quantities are dimensionless and $\\kappa_{x}^{*}$, $\\kappa_{y}^{*}$ and $\\kappa_n^{*}$ are the thermal diffusivity constants in each direction $x$, $y$ and normal."
   ]
  },
  {
   "cell_type": "markdown",
   "metadata": {},
   "source": [
    "**Solution-Correction** \n",
    "It's easy to proof this equation."
   ]
  },
  {
   "cell_type": "markdown",
   "metadata": {},
   "source": [
    "To simplify the notations, we omit from now on ${}^{*}$ and ${}_{obs}$. We assume that $\\psi\\in L^2([DA])$. We will now consider that $\theta_0$ is a constant function equal to $\theta_{obs}$"
   ]
  },
  {
   "cell_type": "markdown",
   "metadata": {},
   "source": [
    "**Q.2** Write the stationary problem associated with (Padim). It will be denoted (Padiminf)."
   ]
  },
  {
   "cell_type": "markdown",
   "metadata": {},
   "source": []
  },
  {
   "cell_type": "markdown",
   "metadata": {},
   "source": [
    "**Solution-Correction**   \n",
    "We have \n",
    "\n",
    "\n",
    "\\begin{equation}\\label{eq1:evol_adiminf}\n",
    "\\tag{Padiminf}\n",
    "\\begin{cases}\n",
    "-\\partial_{x}(  \\kappa_{x} \\partial_{x} \\theta )- \\partial_{y} ( \\kappa_{y} \\partial_{y} \\theta )=0 \\mbox{ in } \\Omega \\\\\n",
    "(CL)\n",
    "\\begin{cases}\n",
    "\\kappa_n\\partial_{n}\\theta=0 \\qquad \\mbox{ on }[AB] \\\\\n",
    "\\theta=\\theta_0 \\qquad \\mbox{ on }[BC] \\\\\n",
    "\\kappa_n\\partial_{n}\\theta=0 \\qquad \\mbox{ on }[CD] \\\\\n",
    "\\kappa_n\\partial_{n}\\theta=\\psi\\qquad \\mbox{ on }[DA], \\\\\n",
    "\\end{cases}\n",
    "\\end{cases}\n",
    "\\end{equation}"
   ]
  },
  {
   "cell_type": "markdown",
   "metadata": {},
   "source": [
    "**Q.3** Write the variational formulation of (Padiminf). Is the solution unique ?"
   ]
  },
  {
   "cell_type": "markdown",
   "metadata": {},
   "source": [
    "**Solution**   \n",
    "Let $\\phi$ be a test function,  \n",
    "$(-\\partial_{x}(  \\kappa_{x} \\partial_{x} \\theta )-\\partial_{y}( \\kappa_{y} \\partial_{y} \\theta )) \\phi=0$  \n",
    "Make the integral we have $-\\int_{\\Omega} (\\partial_{x}(  \\kappa_{x} \\partial_{x} \\theta )+\\partial_{y}( \\kappa_{y} \\partial_{y} \\theta )) \\phi= 0$  \n",
    "Then we have  $-\\int_{\\Omega} \\nabla \\scalaire ( \\kappa \\scalaire \\nabla \\theta) \\phi= 0$   \n",
    "with the Green's Formula we have  $+ \\int_{\\Omega}  \\kappa \\scalaire \\nabla \\theta  \\scalaire \\nabla \\phi= \\int_{\\partial \\Omega} \\phi \\kappa  \\ParDeri{\\theta}{n} = \\int_{DA} \\phi \\psi ds$  \n",
    "So\n",
    "$a(\\theta,\\phi)=\\int_{\\Omega}\\kappa \\nabla \\theta \\nabla \\phi $, $l(\\phi)=\\int_{DA} \\phi \\psi ds$    \n",
    "We can prove that $a$ is coercive (as $a(\\theta,\\theta)=\\int_{\\Omega}\\kappa \\nabla \\theta \\nabla \\theta \\geq \\min(\\kappa) ||\\theta||_{ H }$ \n",
    "and continuous as $a(\\theta,\\phi) \\leq \\max(\\kappa) ||\\theta||_{ H } ||\\phi||_{ H }$  \n",
    "Thus with Lax Milgram we have the unique solution."
   ]
  },
  {
   "cell_type": "markdown",
   "metadata": {},
   "source": [
    "#  Procedure"
   ]
  },
  {
   "cell_type": "markdown",
   "metadata": {},
   "source": [
    "We want to approach the solution of a problem of partial differential equations\n",
    "which are known to be well posed through analysis, using a\n",
    "finite element method. \n",
    "\n",
    "\"To approximate\" can mean several things:\n",
    "we want to visualize, determine the numerical order, etc. \n",
    "\n",
    "The procedure is the following (the steps are numbered Ci for step i of the code): \n",
    "- C0: we load the necessary modules;\n",
    "- C1: we define the constants;\n",
    "- C2: we start from a geometry by defining the edges by parametric curves: the outer edges being traversed **in the trigonometric direction** and the inner edges **in the clockwise direction** ;\n",
    "- C3: a mesh is produced;\n",
    "- C4: we define the space in which the approximate solution is to be found;\n",
    "- C5: we take into account the conditions at the edge;\n",
    "- C6: we define the variational formulation;\n",
    "- C7: we ask the module to solve the system;\n",
    "- C8: the solution is exploited.\n",
    "\n",
    "In the following, programs are provided. We will analyze them precisely with respect to\n",
    "the steps described above. \n"
   ]
  },
  {
   "cell_type": "markdown",
   "metadata": {},
   "source": [
    "#  1D: Simulation of the stationary problem"
   ]
  },
  {
   "cell_type": "markdown",
   "metadata": {},
   "source": [
    "We detail in the first part of this section a first program that solves an approximate problem in dimension 1, then the goal is for you to write a resolution code."
   ]
  },
  {
   "cell_type": "markdown",
   "metadata": {},
   "source": [
    "## Program 1 : Resolution in dimension 1"
   ]
  },
  {
   "cell_type": "markdown",
   "metadata": {},
   "source": [
    "<p style=\"color:red;\">     C0 : Loading the modules </p>"
   ]
  },
  {
   "cell_type": "code",
   "execution_count": 1,
   "metadata": {},
   "outputs": [],
   "source": [
    "from dolfin import *"
   ]
  },
  {
   "cell_type": "code",
   "execution_count": 2,
   "metadata": {},
   "outputs": [],
   "source": [
    "from fenics import *\n",
    "import matplotlib.pyplot as plt"
   ]
  },
  {
   "cell_type": "markdown",
   "metadata": {},
   "source": [
    "<p style=\"color:red;\"> C1 : Defining the constants </p>"
   ]
  },
  {
   "cell_type": "markdown",
   "metadata": {},
   "source": [
    "We fix the constants, the flux from the left $\\psi$ and the precision $tol$."
   ]
  },
  {
   "cell_type": "code",
   "execution_count": 3,
   "metadata": {},
   "outputs": [],
   "source": [
    "kappaadim=1\n",
    "psiadim=1\n",
    "tol = 1E-14"
   ]
  },
  {
   "cell_type": "markdown",
   "metadata": {},
   "source": [
    "<p style=\"color:red;\"> C2 : Defining the geometry </p>  "
   ]
  },
  {
   "cell_type": "markdown",
   "metadata": {},
   "source": [
    "It is a segment of dimensionless length 1."
   ]
  },
  {
   "cell_type": "code",
   "execution_count": 4,
   "metadata": {},
   "outputs": [],
   "source": [
    "X=1"
   ]
  },
  {
   "cell_type": "markdown",
   "metadata": {},
   "source": [
    "<p style=\"color:red;\"> C3: Constructing the mesh </p>"
   ]
  },
  {
   "cell_type": "code",
   "execution_count": 5,
   "metadata": {},
   "outputs": [
    {
     "name": "stdout",
     "output_type": "stream",
     "text": [
      "Plotting a UnitIntervalmesh1\n",
      "<dolfin.cpp.generation.UnitIntervalMesh object at 0x7f9c18d730e0>\n"
     ]
    },
    {
     "data": {
      "image/png": "[encoded data removed]",
      "text/plain": [
       "<Figure size 432x288 with 1 Axes>"
      ]
     },
     "metadata": {
      "needs_background": "light"
     },
     "output_type": "display_data"
    }
   ],
   "source": [
    "nx1 = 10\n",
    "\n",
    "mesh1 = UnitIntervalMesh(nx1)\n",
    "\n",
    "print(\"Plotting a UnitIntervalmesh1\")\n",
    "plt.figure(1)\n",
    "plot(mesh1, title=\"Maillage du segment\")\n",
    "print(mesh1)"
   ]
  },
  {
   "cell_type": "markdown",
   "metadata": {},
   "source": [
    "<p style=\"color:red;\"> C4: Defining the space Hh in which the numerical solution will be searched </p>"
   ]
  },
  {
   "cell_type": "code",
   "execution_count": 6,
   "metadata": {},
   "outputs": [],
   "source": [
    "Hh1 = FunctionSpace(mesh1, 'P', 1)"
   ]
  },
  {
   "cell_type": "markdown",
   "metadata": {},
   "source": [
    "<p style=\"color:red;\"> C5: Taking into account the boundary conditions </p>"
   ]
  },
  {
   "cell_type": "markdown",
   "metadata": {},
   "source": [
    "The Dirichlet boundary conditions must be specified thanks to the FEniCS control DirichletBC. \n",
    "As was seen during the lecture, the Neumann boundary conditions impose the definision of a specific measure on the concerned bart of the boundary. So the different parts of the boundary need to be defined as objects."
   ]
  },
  {
   "cell_type": "code",
   "execution_count": 7,
   "metadata": {},
   "outputs": [],
   "source": [
    "# Definition of the specific boundaries, of the Dirichlet condition \n",
    "# and of the measure needed to define l1 (non homogeneous Neumann on the left edge)\n",
    "\n",
    "def RightEdge1(x, on_boundary):\n",
    "    return on_boundary and (abs(x[0] - 1) < tol) \n",
    "    # It should be x[0]=1 but there are some approximations\n",
    "\n",
    "bcD1 = DirichletBC(Hh1, Constant(2.0), RightEdge1)\n",
    "\n",
    "class LeftEdge1(SubDomain):\n",
    "    def inside(self, x, on_boundary):\n",
    "        return on_boundary and (abs(x[0] - 0) < tol)\n",
    "\n",
    "bcN1 = LeftEdge1()\n",
    "\n",
    "boundaries1 = MeshFunction(\"size_t\", mesh1, mesh1.topology().dim()-1, 0)\n",
    "\n",
    "bcN1.mark(boundaries1,0) # we give the label 0 to the edge x=0 in boundaries1\n",
    "\n",
    "ds1 = Measure(\"ds\", domain=mesh1, subdomain_data=boundaries1) "
   ]
  },
  {
   "cell_type": "markdown",
   "metadata": {},
   "source": [
    "<p style=\"color:red;\"> C6: Coding the variational formulation </p>"
   ]
  },
  {
   "cell_type": "code",
   "execution_count": 8,
   "metadata": {},
   "outputs": [],
   "source": [
    "u1 = TrialFunction(Hh1)\n",
    "v1 = TestFunction(Hh1)\n",
    "l1 = psiadim*v1*ds1(0) #psiadim*v1(0) since ds1(0) is the measure ds1 at x=0 (label 0)\n",
    "a1 = kappaadim*dot(grad(u1), grad(v1))*dx"
   ]
  },
  {
   "cell_type": "markdown",
   "metadata": {},
   "source": [
    "<p style=\"color:red;\"> C7: Solving the variational approximation (assembling the rigidity matrix and solving the linear system) </p>"
   ]
  },
  {
   "cell_type": "code",
   "execution_count": 9,
   "metadata": {},
   "outputs": [],
   "source": [
    "u1 = Function(Hh1)\n",
    "solve(a1 == l1, u1, bcD1)"
   ]
  },
  {
   "cell_type": "markdown",
   "metadata": {},
   "source": [
    "<p style=\"color:red;\"> C8: Plotting the solution </p>"
   ]
  },
  {
   "cell_type": "code",
   "execution_count": 10,
   "metadata": {
    "scrolled": true
   },
   "outputs": [
    {
     "data": {
      "text/plain": [
       "Text(0.5, 0, 'x')"
      ]
     },
     "execution_count": 10,
     "metadata": {},
     "output_type": "execute_result"
    },
    {
     "data": {
      "image/png": "[encoded data removed]",
      "text/plain": [
       "<Figure size 432x288 with 1 Axes>"
      ]
     },
     "metadata": {
      "needs_background": "light"
     },
     "output_type": "display_data"
    }
   ],
   "source": [
    "plt.figure(2)\n",
    "plot(u1,title='Solution numérique u1')\n",
    "plt.xlabel('x')"
   ]
  },
  {
   "cell_type": "markdown",
   "metadata": {},
   "source": [
    "**Q.1** Which quantity are we looking at? "
   ]
  },
  {
   "cell_type": "markdown",
   "metadata": {},
   "source": [
    "**Solution** \n",
    "$\\theta$\n"
   ]
  },
  {
   "cell_type": "markdown",
   "metadata": {},
   "source": [
    "**Q.2** What problem was solved?"
   ]
  },
  {
   "cell_type": "markdown",
   "metadata": {},
   "source": [
    "**Solution** "
   ]
  },
  {
   "cell_type": "markdown",
   "metadata": {},
   "source": [
    "One can obtain the stiffness matrix using the command *assemble*, that gives the stiffness matrix on all the nodes of the mesh **regardless the boundary conditions**. Careful, to take the Dirichlet boundary conditions into account, on needs to apply it by using the command *boundary_conditions.apply*. "
   ]
  },
  {
   "cell_type": "code",
   "execution_count": 11,
   "metadata": {
    "scrolled": true
   },
   "outputs": [
    {
     "name": "stdout",
     "output_type": "stream",
     "text": [
      "[[ 10. -10.   0.   0.   0.   0.   0.   0.   0.   0.   0.]\n",
      " [-10.  20. -10.   0.   0.   0.   0.   0.   0.   0.   0.]\n",
      " [  0. -10.  20. -10.   0.   0.   0.   0.   0.   0.   0.]\n",
      " [  0.   0. -10.  20. -10.   0.   0.   0.   0.   0.   0.]\n",
      " [  0.   0.   0. -10.  20. -10.   0.   0.   0.   0.   0.]\n",
      " [  0.   0.   0.   0. -10.  20. -10.   0.   0.   0.   0.]\n",
      " [  0.   0.   0.   0.   0. -10.  20. -10.   0.   0.   0.]\n",
      " [  0.   0.   0.   0.   0.   0. -10.  20. -10.   0.   0.]\n",
      " [  0.   0.   0.   0.   0.   0.   0. -10.  20. -10.   0.]\n",
      " [  0.   0.   0.   0.   0.   0.   0.   0. -10.  20. -10.]\n",
      " [  0.   0.   0.   0.   0.   0.   0.   0.   0. -10.  10.]]\n",
      "[1. 0. 0. 0. 0. 0. 0. 0. 0. 0. 1.]\n",
      "[[  1.   0.   0.   0.   0.   0.   0.   0.   0.   0.   0.]\n",
      " [-10.  20. -10.   0.   0.   0.   0.   0.   0.   0.   0.]\n",
      " [  0. -10.  20. -10.   0.   0.   0.   0.   0.   0.   0.]\n",
      " [  0.   0. -10.  20. -10.   0.   0.   0.   0.   0.   0.]\n",
      " [  0.   0.   0. -10.  20. -10.   0.   0.   0.   0.   0.]\n",
      " [  0.   0.   0.   0. -10.  20. -10.   0.   0.   0.   0.]\n",
      " [  0.   0.   0.   0.   0. -10.  20. -10.   0.   0.   0.]\n",
      " [  0.   0.   0.   0.   0.   0. -10.  20. -10.   0.   0.]\n",
      " [  0.   0.   0.   0.   0.   0.   0. -10.  20. -10.   0.]\n",
      " [  0.   0.   0.   0.   0.   0.   0.   0. -10.  20. -10.]\n",
      " [  0.   0.   0.   0.   0.   0.   0.   0.   0. -10.  10.]]\n",
      "[2. 0. 0. 0. 0. 0. 0. 0. 0. 0. 1.]\n",
      "[[0. ]\n",
      " [0.1]\n",
      " [0.2]\n",
      " [0.3]\n",
      " [0.4]\n",
      " [0.5]\n",
      " [0.6]\n",
      " [0.7]\n",
      " [0.8]\n",
      " [0.9]\n",
      " [1. ]]\n"
     ]
    }
   ],
   "source": [
    "A1=assemble(a1)\n",
    "b1=assemble(l1)\n",
    "print(A1.array())\n",
    "print(b1.get_local())\n",
    "bcD1.apply(A1,b1)\n",
    "print(A1.array())\n",
    "print(b1.get_local())\n",
    "coordinates =  mesh1.coordinates()\n",
    "print(coordinates)"
   ]
  },
  {
   "cell_type": "markdown",
   "metadata": {},
   "source": [
    "## Numerical order of the $\\mathbb{P}1$ method. "
   ]
  },
  {
   "cell_type": "markdown",
   "metadata": {},
   "source": [
    "**Q.1** How can we validate numerically the variational approximation, knowing the result of  Q.6 of Part 1 ?"
   ]
  },
  {
   "cell_type": "markdown",
   "metadata": {},
   "source": [
    "**Solution** "
   ]
  },
  {
   "cell_type": "markdown",
   "metadata": {},
   "source": [
    "**P.1** Plot the difference between the solution of the approximate problem and the function thetainf = Expression(\"2-x[0]\", degree=2). \n",
    "\n",
    "FEniCS keywords: *Expression*, *project*"
   ]
  },
  {
   "cell_type": "markdown",
   "metadata": {},
   "source": [
    "**Correction**"
   ]
  },
  {
   "cell_type": "code",
   "execution_count": 12,
   "metadata": {},
   "outputs": [
    {
     "data": {
      "text/plain": [
       "Text(0.5, 0, 'x')"
      ]
     },
     "execution_count": 12,
     "metadata": {},
     "output_type": "execute_result"
    },
    {
     "data": {
      "image/png": "[encoded data removed]",
      "text/plain": [
       "<Figure size 432x288 with 1 Axes>"
      ]
     },
     "metadata": {
      "needs_background": "light"
     },
     "output_type": "display_data"
    }
   ],
   "source": [
    "thetainf = Expression(\"2-x[0]\", degree=2) # Define the solution 2-x[0]\n",
    "err=project(u1-thetainf,Hh1) #Project on Hh1 space, the P1 space\n",
    "plu=plot(err)\n",
    "plt.title('Erreur u1-thetainf')\n",
    "plt.xlabel('x')"
   ]
  },
  {
   "cell_type": "markdown",
   "metadata": {},
   "source": [
    "***Note for Expression***  \n",
    "In FEniCS, the Expression construction is:  \n",
    "Expression(formula, degree=1)  \n",
    "\n",
    "The fomula must be written with C++ syntax \n",
    "\n",
    "The degree:  \n",
    "- It is usually a good choice to use the same degree as for the space V that is used for the trial and test functions. \n",
    "- However, if an Expression is used to represent an exact solution which is used to evaluate the accuracy of a computed solution, a higher degree must be used for the expression (one or two degrees higher)."
   ]
  },
  {
   "cell_type": "markdown",
   "metadata": {},
   "source": [
    "***Note for Project***   \n",
    "\n",
    "project(expression, W)\n",
    "\n",
    "which returns the projection of some expression into the space W."
   ]
  },
  {
   "cell_type": "markdown",
   "metadata": {},
   "source": [
    "**P.2** Compute the decimal logarithme of the $L^2$ and $H^1$ norm of the error.\n",
    "\n",
    "FEniCS keywords: *norm*"
   ]
  },
  {
   "cell_type": "code",
   "execution_count": 13,
   "metadata": {},
   "outputs": [
    {
     "name": "stdout",
     "output_type": "stream",
     "text": [
      "norme L2 de l'erreur= 6.750292265873004e-16\n",
      "norme H1 de l'erreur= 6.750292265873004e-16\n"
     ]
    }
   ],
   "source": [
    "import math\n",
    "print(\"norme L2 de l'erreur=\",math.log10(norm(err,'L2')))\n",
    "print(\"norme H1 de l'erreur=\",math.log10(norm(err,'H1')))"
   ]
  },
  {
   "cell_type": "markdown",
   "metadata": {},
   "source": [
    "***Note for Norm***  \n",
    "errornorm(u_e,u,norm_type='L2')   \n",
    "norm(err,'L2')  "
   ]
  },
  {
   "cell_type": "markdown",
   "metadata": {},
   "source": [
    "**Q.2** Explain this result."
   ]
  },
  {
   "cell_type": "markdown",
   "metadata": {},
   "source": [
    "**Solution**    \n",
    "The numerical solution coincide with the analytical solution as this is of order 1."
   ]
  },
  {
   "cell_type": "markdown",
   "metadata": {},
   "source": [
    "*Remark* Generally, it is safer to consider the relative error norm(u-thetainf,'H1')/norm(thetainf,'H1'). Here, since norm(thetainf,'H1') is of order 1, it is not worth it."
   ]
  },
  {
   "cell_type": "markdown",
   "metadata": {},
   "source": [
    "**P.3** We assume until the end of this section that the source  $S$ is not zero. Assume only in this question that $S$ is uniform, equal to 1 over the whole domain. The exact solution is then $\\theta_{ex}:x\\mapsto \\theta^\\infty(x) + (1-x^2)/2$. Code the resolution by the method $\\mathbb{P}1$, as a function error_p1 taking as input the number of cells nx as giving as output the H1 norm of the error.\n",
    "\n",
    "FEniCS keywords: *SpatialCoordinate*, *conditional* (UFL language)"
   ]
  },
  {
   "cell_type": "code",
   "execution_count": 14,
   "metadata": {},
   "outputs": [],
   "source": [
    "#Step C0\n",
    "import numpy as np \n",
    "def error_p1(nx):\n",
    "    \n",
    "    #C1,C2,C3\n",
    "    mesh = UnitIntervalMesh(nx)\n",
    "\n",
    "    x = SpatialCoordinate(mesh)\n",
    "    \n",
    "    source = Expression(\"1\", degree=2)\n",
    "    #source = Expression(\"-pi*sin(pi*x[0])\", degree=2)\n",
    "    #source = conditional(gt(x[0], 0.5), Constant(8), Constant(0))\n",
    "    \n",
    "    #C4\n",
    "    Hh = FunctionSpace(mesh, 'P', 1)\n",
    "    \n",
    "    #C5\n",
    "    class RightEdge(SubDomain):\n",
    "        def inside(self, x, on_boundary):\n",
    "            return on_boundary and (abs(x[0] - 1) < tol) \n",
    "    \n",
    "    re = RightEdge()\n",
    "    reD = DirichletBC(Hh, Constant(1.0), re)\n",
    "\n",
    "    class LeftEdge(SubDomain):\n",
    "        def inside(self, x, on_boundary):\n",
    "            return on_boundary and (abs(x[0] - 0) < tol)\n",
    "    \n",
    "    leN = LeftEdge()\n",
    "\n",
    "    boundaries = MeshFunction(\"size_t\", mesh, mesh.topology().dim()-1, 0)\n",
    "\n",
    "    leN.mark(boundaries, 1)\n",
    "\n",
    "    ds = Measure(\"ds\", domain=mesh, subdomain_data=boundaries)\n",
    "    \n",
    "    #C6\n",
    "    u = TrialFunction(Hh)\n",
    "    v = TestFunction(Hh)\n",
    "    l = v*ds(1) + source*v*dx\n",
    "    a = inner(grad(u), grad(v))*dx\n",
    "    \n",
    "    #C7\n",
    "    u = Function(Hh)\n",
    "\n",
    "    solve(a == l, u, reD)\n",
    "    \n",
    "    #C8\n",
    "    theta_ex = Expression(\"2.5-x[0]-pow(x[0],2)/2\", degree=2)\n",
    "    #theta_ex = Expression(\"1-sin(pi*x[0])/pi\", degree=3)\n",
    "    #theta_ex = conditional(gt(x[0], 0.5),-x[0]+3-4*pow(x[0]-0.5,2),-x[0]+3)\n",
    "    err=project(u-theta_ex,Hh)\n",
    "    \n",
    "    return norm(err,'H1')\n"
   ]
  },
  {
   "cell_type": "markdown",
   "metadata": {},
   "source": [
    "**P.4** Compute the errors for nx = 8, 16, 32, 64, 128, 256, 512 and 1024. Plot the results taking the decimal logarithm of nx as abscissae."
   ]
  },
  {
   "cell_type": "code",
   "execution_count": 15,
   "metadata": {},
   "outputs": [
    {
     "name": "stdout",
     "output_type": "stream",
     "text": [
      "[5.20833333e-03 1.30208333e-03 3.25520833e-04 8.13802083e-05\n",
      " 2.03450521e-05 5.08626302e-06 1.27156576e-06 3.17891439e-07]\n"
     ]
    },
    {
     "data": {
      "text/plain": [
       "Text(0, 0.5, 'erreur')"
      ]
     },
     "execution_count": 15,
     "metadata": {},
     "output_type": "execute_result"
    },
    {
     "data": {
      "image/png": "[encoded data removed]",
      "text/plain": [
       "<Figure size 432x288 with 1 Axes>"
      ]
     },
     "metadata": {
      "needs_background": "light"
     },
     "output_type": "display_data"
    }
   ],
   "source": [
    "absc = np.array([])\n",
    "result = np.array([])\n",
    "for p in range(2,10):\n",
    "    absc = np.append(absc,[pow(2,p)])\n",
    "    result = np.append(result,[error_p1(pow(2,p))])\n",
    "print(result)\n",
    "plt.loglog(absc,result)\n",
    "plt.title(\"Courbe d'erreur\")\n",
    "plt.xlabel(\"nombre de mailles\")\n",
    "plt.ylabel(\"erreur\")"
   ]
  },
  {
   "cell_type": "markdown",
   "metadata": {},
   "source": [
    "**P.5** Give an estimate of the numerical order of the method for this problem."
   ]
  },
  {
   "cell_type": "code",
   "execution_count": 16,
   "metadata": {},
   "outputs": [
    {
     "name": "stdout",
     "output_type": "stream",
     "text": [
      "1.999999999999308\n"
     ]
    }
   ],
   "source": [
    "print(-(math.log(result[3])-math.log(result[1]))/(math.log(absc[3])-math.log(absc[1])))"
   ]
  },
  {
   "cell_type": "markdown",
   "metadata": {},
   "source": [
    "**P.6** Modify the code of P.3 to include the sources & exact solutions $S:x\\mapsto -\\pi\\sin(\\pi x)$ & $\\theta_{ex}:x\\mapsto  1-\\sin(\\pi x)/\\pi$  and $S:x\\mapsto 8 H(x-1/2)$ & $\\theta_{ex}:x\\mapsto  -x+3-1_{x>1/2}(2x-1)^2$. Conclude."
   ]
  },
  {
   "cell_type": "markdown",
   "metadata": {},
   "source": [
    "**Solution**   \n",
    "This is a method of order 2."
   ]
  },
  {
   "cell_type": "markdown",
   "metadata": {},
   "source": [
    "## Program 2 : Resolution of the same problem in dimension 2"
   ]
  },
  {
   "cell_type": "markdown",
   "metadata": {},
   "source": [
    "We go back to the initial problem (Padiminf), with no source. We now define the full geometry of the initial domain in space dimension 2.\n",
    "\n",
    "We give the code in dimension 2."
   ]
  },
  {
   "cell_type": "code",
   "execution_count": 17,
   "metadata": {},
   "outputs": [
    {
     "data": {
      "image/png": "[encoded data removed]",
      "text/plain": [
       "<Figure size 432x288 with 1 Axes>"
      ]
     },
     "metadata": {
      "needs_background": "light"
     },
     "output_type": "display_data"
    }
   ],
   "source": [
    "#C0\n",
    "#from dolfin import *\n",
    "from __future__ import print_function\n",
    "#from fenics import *\n",
    "#import matplotlib.pyplot as plt\n",
    "\n",
    "#C1\n",
    "#kappaadim=1\n",
    "#psiadim=1\n",
    "#tol = 1E-14\n",
    "\n",
    "#C2\n",
    "#X=1\n",
    "Y=1\n",
    "\n",
    "#C3\n",
    "nx2=5\n",
    "ny2=10\n",
    "\n",
    "mesh2 = RectangleMesh(Point(0.0, 0.0), Point(X, Y), nx2, ny2, diagonal=\"left\") \n",
    "\n",
    "plt.figure(1)\n",
    "plot(mesh2, title=\"Maillage du rectangle\")\n",
    "\n",
    "#C4\n",
    "Hh2 = FunctionSpace(mesh2, 'P', 1)\n",
    "\n",
    "#C5\n",
    "\n",
    "def RightEdge2(x, on_boundary):\n",
    "    return on_boundary and (abs(x[0] - 1) < tol) \n",
    "    \n",
    "reD2 = DirichletBC(Hh2, Constant(1.0), RightEdge2)\n",
    "\n",
    "class LeftEdge2(SubDomain):\n",
    "    def inside(self, x, on_boundary):\n",
    "        return on_boundary and (abs(x[0] - 0) < tol)\n",
    "    \n",
    "leN2 = LeftEdge2()\n",
    "\n",
    "boundaries2 = MeshFunction(\"size_t\", mesh2, mesh2.topology().dim()-1, 0)\n",
    "\n",
    "leN2.mark(boundaries2, 1)\n",
    "\n",
    "ds2 = Measure(\"ds\", domain=mesh2, subdomain_data=boundaries2)"
   ]
  },
  {
   "cell_type": "markdown",
   "metadata": {},
   "source": [
    "**P.1** Write the variational formulation of Problem (Padiminf) (step C6) and plot the solution."
   ]
  },
  {
   "cell_type": "code",
   "execution_count": 18,
   "metadata": {},
   "outputs": [],
   "source": [
    "u2 = TrialFunction(Hh2)\n",
    "v2 = TestFunction(Hh2)\n",
    "l2 = psiadim*v2*ds2(1)\n",
    "a2 = kappaadim*inner(grad(u2), grad(v2))*dx"
   ]
  },
  {
   "cell_type": "markdown",
   "metadata": {},
   "source": [
    "**P.2** Solve the variational approximation (step C7)."
   ]
  },
  {
   "cell_type": "code",
   "execution_count": 19,
   "metadata": {},
   "outputs": [],
   "source": [
    "u2=Function(Hh2)\n",
    "solve(a2==l2,u2,reD2)"
   ]
  },
  {
   "cell_type": "markdown",
   "metadata": {},
   "source": [
    "**P.3** Plot the solution (step C8)."
   ]
  },
  {
   "cell_type": "code",
   "execution_count": 20,
   "metadata": {},
   "outputs": [
    {
     "data": {
      "text/plain": [
       "<matplotlib.colorbar.Colorbar at 0x7f9c18a9fd60>"
      ]
     },
     "execution_count": 20,
     "metadata": {},
     "output_type": "execute_result"
    },
    {
     "data": {
      "image/png": "[encoded data removed]",
      "text/plain": [
       "<Figure size 432x288 with 2 Axes>"
      ]
     },
     "metadata": {
      "needs_background": "light"
     },
     "output_type": "display_data"
    }
   ],
   "source": [
    "plt.figure(2)\n",
    "plu=plot(u2)\n",
    "plt.title('Solution numérique u2')\n",
    "plt.xlabel('x')\n",
    "plt.ylabel('y')\n",
    "plt.colorbar(plu)"
   ]
  },
  {
   "cell_type": "markdown",
   "metadata": {},
   "source": [
    "**Q.1** How can you act on the mesh to convince yourself that the solution does not depend on $y$?"
   ]
  },
  {
   "cell_type": "markdown",
   "metadata": {},
   "source": [
    "**Solution** \n",
    "Make no uniform mesh in y direction to see if they have the same solution"
   ]
  },
  {
   "cell_type": "markdown",
   "metadata": {},
   "source": [
    "**P.4** How can you implement the $\\mathbb{P}2$ method?"
   ]
  },
  {
   "cell_type": "markdown",
   "metadata": {},
   "source": [
    "**Solution**    \n",
    "Hh2 = FunctionSpace(mesh2, 'P', 2)"
   ]
  },
  {
   "cell_type": "markdown",
   "metadata": {},
   "source": [
    "**P.5** Does the solution appear correct visually (you can plot the gradient of $u$)?\n",
    "\n",
    "FEniCS keywords: *grad*"
   ]
  },
  {
   "cell_type": "code",
   "execution_count": 21,
   "metadata": {},
   "outputs": [
    {
     "data": {
      "text/plain": [
       "<matplotlib.quiver.Quiver at 0x7f9c189519d0>"
      ]
     },
     "execution_count": 21,
     "metadata": {},
     "output_type": "execute_result"
    },
    {
     "data": {
      "image/png": "[encoded data removed]",
      "text/plain": [
       "<Figure size 432x288 with 1 Axes>"
      ]
     },
     "metadata": {
      "needs_background": "light"
     },
     "output_type": "display_data"
    }
   ],
   "source": [
    "plt.figure(3)\n",
    "plot(grad(u2))"
   ]
  },
  {
   "cell_type": "markdown",
   "metadata": {},
   "source": [
    "# 2D : Computing an integrated flux"
   ]
  },
  {
   "cell_type": "markdown",
   "metadata": {},
   "source": [
    "The integrated flux on an edge is the integral on this edge of the normal derivative of the temperature."
   ]
  },
  {
   "cell_type": "markdown",
   "metadata": {},
   "source": [
    "**Q.1** What is the value of the integrated flux at $x=0$ ? "
   ]
  },
  {
   "cell_type": "markdown",
   "metadata": {},
   "source": [
    "**Solution**   \n",
    "$\\int_{AD} \\partial_{n} \\theta = \\frac{\\psi}{\\kappa} \\times Y =1$"
   ]
  },
  {
   "cell_type": "markdown",
   "metadata": {},
   "source": [
    "**Q.2** What is the value of the integrated flux at $x=X$ ? "
   ]
  },
  {
   "cell_type": "markdown",
   "metadata": {},
   "source": [
    "**Solution**   \n",
    "Conservation of flux =>1"
   ]
  },
  {
   "cell_type": "markdown",
   "metadata": {},
   "source": [
    "**P.1** Write a code that computes the integrated flux on the segment [DA], called influx, and integrated flux on the segment [BC], called outflux. Give as a result the absolute value of the difference.  \n",
    "\n",
    "FEniCS keywords: *assemble*, *mark*"
   ]
  },
  {
   "cell_type": "code",
   "execution_count": 22,
   "metadata": {},
   "outputs": [
    {
     "name": "stdout",
     "output_type": "stream",
     "text": [
      "difference= 6.8833827526759706e-15\n"
     ]
    }
   ],
   "source": [
    "import math\n",
    "\n",
    "nx3=5\n",
    "ny3=5\n",
    "\n",
    "mesh3 = RectangleMesh(Point(0.0, 0.0), Point(X, Y), nx3, ny3, diagonal=\"left\") \n",
    "\n",
    "Hh3 = FunctionSpace(mesh3, 'P', 1)\n",
    "\n",
    "class RightEdge3(SubDomain):\n",
    "    def inside(self, x, on_boundary):\n",
    "        return on_boundary and (abs(x[0] - 1) < tol) \n",
    "    \n",
    "re3 = RightEdge3()\n",
    "reD3 = DirichletBC(Hh3, Constant(1.0), re3)\n",
    "\n",
    "class LeftEdge3(SubDomain):\n",
    "    def inside(self, x, on_boundary):\n",
    "        return on_boundary and (abs(x[0] - 0) < tol)\n",
    "    \n",
    "leN3 = LeftEdge3()\n",
    "\n",
    "boundaries3 = MeshFunction(\"size_t\", mesh3, mesh3.topology().dim()-1, 0)\n",
    "\n",
    "leN3.mark(boundaries3, 1)\n",
    "\n",
    "ds3 = Measure(\"ds\", domain=mesh3, subdomain_data=boundaries3)\n",
    "\n",
    "u3 = TrialFunction(Hh3)\n",
    "v3 = TestFunction(Hh3)\n",
    "    \n",
    "l3 = psiadim*v3*ds3(1)\n",
    "a3 = kappaadim*inner(grad(u3), grad(v3))*dx\n",
    "\n",
    "u3 = Function(Hh3)\n",
    "\n",
    "solve(a3 == l3, u3, reD3)\n",
    "\n",
    "influx3 = assemble(Dx(u3,0)*ds3(1))\n",
    "\n",
    "re3.mark(boundaries3, 2)\n",
    "outflux3 = assemble(Dx(u3,0)*ds3(2))\n",
    "    \n",
    "print(\"difference=\",abs(influx3-outflux3))\n"
   ]
  },
  {
   "cell_type": "markdown",
   "metadata": {},
   "source": [
    "**Q.3** Conclude."
   ]
  },
  {
   "cell_type": "markdown",
   "metadata": {},
   "source": [
    "**Solution**   \n",
    "We have conservation of flux as there is no source of flux and it's steady state"
   ]
  },
  {
   "cell_type": "markdown",
   "metadata": {},
   "source": [
    "**Remark** We need to define the right edge *RightEdge* as a class to be able to label it as a subdomain and integrate over this edge."
   ]
  },
  {
   "cell_type": "markdown",
   "metadata": {},
   "source": [
    "#  2D : Simulation of a stationary problem with a constant conductivity and a non constant influx"
   ]
  },
  {
   "cell_type": "markdown",
   "metadata": {},
   "source": [
    "Let the flux be $\\psi:y\\mapsto \\psi_{adim}y$."
   ]
  },
  {
   "cell_type": "markdown",
   "metadata": {},
   "source": [
    "**P.1** Insert $\\psi$ in code 2. Plot the mesh and the soltution as subfigures.\n",
    "\n",
    "matplotlib keywords : *subplot*, *colorbar* "
   ]
  },
  {
   "cell_type": "code",
   "execution_count": 23,
   "metadata": {},
   "outputs": [
    {
     "data": {
      "text/plain": [
       "<matplotlib.colorbar.Colorbar at 0x7f9c1836ee80>"
      ]
     },
     "execution_count": 23,
     "metadata": {},
     "output_type": "execute_result"
    },
    {
     "data": {
      "image/png": "[encoded data removed]",
      "text/plain": [
       "<Figure size 432x288 with 3 Axes>"
      ]
     },
     "metadata": {
      "needs_background": "light"
     },
     "output_type": "display_data"
    }
   ],
   "source": [
    "psi = psiadim*Expression(\"x[1]\", degree=2)\n",
    "\n",
    "nx4=200\n",
    "ny4=200 \n",
    "\n",
    "mesh4 = RectangleMesh(Point(0.0, 0.0), Point(X, Y), nx4, ny4, diagonal=\"left\") \n",
    "\n",
    "plt.figure(1)\n",
    "plt.subplots_adjust(wspace=0.7)\n",
    "plt.subplot(1, 2, 1)\n",
    "plot(mesh4, title=\"Maillage du rectangle\")\n",
    "\n",
    "Hh4 = FunctionSpace(mesh4, 'P', 1)\n",
    "\n",
    "class RightEdge4(SubDomain):\n",
    "    def inside(self, x, on_boundary):\n",
    "        return on_boundary and (abs(x[0] - 1) < tol) \n",
    "    \n",
    "re4 = RightEdge4()\n",
    "reD4 = DirichletBC(Hh4, Constant(1.0), re4)\n",
    "\n",
    "class LeftEdge4(SubDomain):\n",
    "    def inside(self, x, on_boundary):\n",
    "        return on_boundary and (abs(x[0] - 0) < tol)\n",
    "    \n",
    "leN4 = LeftEdge4()\n",
    "\n",
    "boundaries4 = MeshFunction(\"size_t\", mesh4, mesh4.topology().dim()-1, 0)\n",
    "\n",
    "leN4.mark(boundaries4, 1)\n",
    "\n",
    "ds4 = Measure(\"ds\", domain=mesh4, subdomain_data=boundaries4)\n",
    "\n",
    "u4 = TrialFunction(Hh4)\n",
    "v4 = TestFunction(Hh4)\n",
    "l4 = psi*v4*ds4(1)\n",
    "a4 = kappaadim*inner(grad(u4), grad(v4))*dx\n",
    "\n",
    "u4 = Function(Hh4)\n",
    "\n",
    "solve(a4 == l4, u4, reD4)\n",
    "\n",
    "plt.subplots_adjust(wspace=0.7)\n",
    "plt.subplot(1, 2, 2)\n",
    "plu=plot(u4)\n",
    "plt.title('Solution numérique u4')\n",
    "plt.xlabel('x')\n",
    "plt.ylabel('y')\n",
    "plt.colorbar(plu,fraction=0.046, pad=0.04)\n"
   ]
  },
  {
   "cell_type": "markdown",
   "metadata": {},
   "source": [
    "**P.2** Estimeate the numerical order of the  $\\mathbb{P}1$ and $\\mathbb{P}2$ methods for this problem. Since the closed form of the solution is not known, choose large integers nx4 and ny4, e. g. 200, and compare the solutions computed for smaller nx and nyto the solution obtained for the fine mesh mesh4. \n",
    "\n",
    "FEniCS keywords: *linregress*"
   ]
  },
  {
   "cell_type": "code",
   "execution_count": 24,
   "metadata": {},
   "outputs": [
    {
     "name": "stdout",
     "output_type": "stream",
     "text": [
      "ordre numérique obtenu par régression linéaire : 1.9502364993299515\n"
     ]
    },
    {
     "data": {
      "image/png": "[encoded data removed]",
      "text/plain": [
       "<Figure size 432x288 with 1 Axes>"
      ]
     },
     "metadata": {
      "needs_background": "light"
     },
     "output_type": "display_data"
    }
   ],
   "source": [
    "nxpsi=150\n",
    "nypsi=150 \n",
    "\n",
    "def ord_psi(nx,ny,ordre):\n",
    "    meshpsi = RectangleMesh(Point(0.0, 0.0), Point(X, Y), nx, ny, diagonal=\"left\") \n",
    "\n",
    "    Hhpsi = FunctionSpace(meshpsi, 'P', ordre)\n",
    "\n",
    "    class RightEdgepsi(SubDomain):\n",
    "        def inside(self, x, on_boundary):\n",
    "            return on_boundary and (abs(x[0] - 1) < tol) \n",
    "    \n",
    "    repsi = RightEdgepsi()\n",
    "    reDpsi = DirichletBC(Hhpsi, Constant(1.0), repsi)\n",
    "\n",
    "    class LeftEdgepsi(SubDomain):\n",
    "        def inside(self, x, on_boundary):\n",
    "            return on_boundary and (abs(x[0] - 0) < tol)\n",
    "    \n",
    "    leNpsi = LeftEdgepsi()\n",
    "\n",
    "    boundariespsi = MeshFunction(\"size_t\", meshpsi, meshpsi.topology().dim()-1, 0)\n",
    "\n",
    "    leNpsi.mark(boundariespsi, 1)\n",
    "\n",
    "    dspsi = Measure(\"ds\", domain=meshpsi, subdomain_data=boundariespsi)\n",
    "\n",
    "    upsi = TrialFunction(Hhpsi)\n",
    "    vpsi = TestFunction(Hhpsi)\n",
    "    lpsi = psi*vpsi*dspsi(1)\n",
    "    apsi = kappaadim*inner(grad(upsi), grad(vpsi))*dx\n",
    "\n",
    "    upsi = Function(Hhpsi)\n",
    "\n",
    "    solve(apsi == lpsi, upsi, reDpsi)\n",
    "    \n",
    "    err=project(upsi-u4,Hh4)\n",
    "    \n",
    "    return norm(err,'H1')\n",
    "\n",
    "abscpsi = np.asarray([])\n",
    "resultpsi = np.asarray([])\n",
    "for p in range(2,15):\n",
    "    abscpsi = np.append(abscpsi,[math.log(p*10)])\n",
    "    resultpsi = np.append(resultpsi,[math.log(ord_psi(p*10,p*10,2))])\n",
    "\n",
    "plt.plot(abscpsi,resultpsi)\n",
    "plt.title(\"Courbe d'erreur\")\n",
    "plt.xlabel(\"Logarithme du nombre de mailles\")\n",
    "plt.ylabel(\"Logarithme de l'erreur\")\n",
    "\n",
    "from scipy.stats import linregress\n",
    "\n",
    "slope, intercept, r_value, std_err, p_value = linregress(abscpsi,resultpsi)\n",
    "\n",
    "print(\"ordre numérique obtenu par régression linéaire :\",-slope)\n"
   ]
  },
  {
   "cell_type": "markdown",
   "metadata": {},
   "source": [
    "**P.3** Give the integrated fluxes at $x=0$ and $x=X$. Was the result predictible?"
   ]
  },
  {
   "cell_type": "code",
   "execution_count": 25,
   "metadata": {},
   "outputs": [
    {
     "name": "stdout",
     "output_type": "stream",
     "text": [
      "difference= 0.0026193135306429305\n"
     ]
    }
   ],
   "source": [
    "influx4 = assemble(Dx(u4,0)*ds4(1))\n",
    "\n",
    "re4.mark(boundaries4, 2)\n",
    "outflux4 = assemble(Dx(u4,0)*ds4(2))\n",
    "\n",
    "print(\"difference=\",abs(influx4-outflux4))\n"
   ]
  },
  {
   "cell_type": "markdown",
   "metadata": {},
   "source": [
    "**Solution** "
   ]
  },
  {
   "cell_type": "markdown",
   "metadata": {},
   "source": [
    "**Q.3** Conclure."
   ]
  },
  {
   "cell_type": "markdown",
   "metadata": {},
   "source": [
    "**Solution** "
   ]
  },
  {
   "cell_type": "markdown",
   "metadata": {},
   "source": [
    "#  2D : Simulation of the stationary problem in a domain with a fixed hole"
   ]
  },
  {
   "cell_type": "markdown",
   "metadata": {},
   "source": [
    "![caption](images/domaine2.png)"
   ]
  },
  {
   "cell_type": "markdown",
   "metadata": {},
   "source": [
    "## Adaptation of the geometry"
   ]
  },
  {
   "cell_type": "markdown",
   "metadata": {},
   "source": [
    "At first we consider that there is a circular **insulated** hole of radius $r$ at the center of the domain $\\Omega'$. The conditions on the boundary of the hole are thus homogeneous Neumann conditions."
   ]
  },
  {
   "cell_type": "markdown",
   "metadata": {},
   "source": [
    "In order to compare the results on mesh that have cells of approximately the same size, we fix the size of the domain, the position and the size of the hole, as well as the number of cells on an edge and the order of the method."
   ]
  },
  {
   "cell_type": "code",
   "execution_count": 26,
   "metadata": {},
   "outputs": [],
   "source": [
    "xc=X/2\n",
    "yc=Y/2\n",
    "r=0.1\n",
    "\n",
    "nx5=15\n",
    "ny5=15\n",
    "ordre = 1"
   ]
  },
  {
   "cell_type": "markdown",
   "metadata": {},
   "source": [
    "**P.1** Define the new domain and mesh it.\n",
    "\n",
    "FEniCS keywords: *Rectangle(Point(.,.),Point(.,.))*, *Circle(Point(.,.),.)*, *generate_mesh*"
   ]
  },
  {
   "cell_type": "code",
   "execution_count": 27,
   "metadata": {},
   "outputs": [
    {
     "data": {
      "text/plain": [
       "[<matplotlib.lines.Line2D at 0x7f9bffa9b430>,\n",
       " <matplotlib.lines.Line2D at 0x7f9bffa9b7c0>]"
      ]
     },
     "execution_count": 27,
     "metadata": {},
     "output_type": "execute_result"
    },
    {
     "data": {
      "image/png": "[encoded data removed]",
      "text/plain": [
       "<Figure size 432x288 with 1 Axes>"
      ]
     },
     "metadata": {
      "needs_background": "light"
     },
     "output_type": "display_data"
    }
   ],
   "source": [
    "from mshr import *\n",
    "base = Rectangle(Point(0.0, 0.0), Point(X, Y))\n",
    "hole = Circle(Point(xc, yc), r)\n",
    "mesh5 = generate_mesh(base - hole, nx5)\n",
    "\n",
    "plt.figure(1)\n",
    "plot(mesh5, title=\"Maillage du rectangle troué\")"
   ]
  },
  {
   "cell_type": "markdown",
   "metadata": {},
   "source": [
    "**P.2** Solve the problem on the new domain."
   ]
  },
  {
   "cell_type": "code",
   "execution_count": 28,
   "metadata": {},
   "outputs": [
    {
     "data": {
      "text/plain": [
       "<matplotlib.colorbar.Colorbar at 0x7f9bfe1ff460>"
      ]
     },
     "execution_count": 28,
     "metadata": {},
     "output_type": "execute_result"
    },
    {
     "data": {
      "image/png": "[encoded data removed]",
      "text/plain": [
       "<Figure size 432x288 with 2 Axes>"
      ]
     },
     "metadata": {
      "needs_background": "light"
     },
     "output_type": "display_data"
    }
   ],
   "source": [
    "Hh5 = FunctionSpace(mesh5, 'P', ordre)\n",
    "\n",
    "class RightEdge5(SubDomain):\n",
    "    def inside(self, x, on_boundary):\n",
    "        return on_boundary and (abs(x[0] - 1) < tol) \n",
    "    \n",
    "re5 = RightEdge5()\n",
    "reD5 = DirichletBC(Hh5, Constant(1.0), re5)\n",
    "\n",
    "class LeftEdge5(SubDomain):\n",
    "    def inside(self, x, on_boundary):\n",
    "        return on_boundary and (abs(x[0] - 0) < tol)\n",
    "    \n",
    "leN5 = LeftEdge5()\n",
    "\n",
    "boundaries5 = MeshFunction(\"size_t\", mesh5, mesh5.topology().dim()-1, 0)\n",
    "\n",
    "leN5.mark(boundaries5, 1)\n",
    "\n",
    "ds5 = Measure(\"ds\", domain=mesh5, subdomain_data=boundaries5)\n",
    "\n",
    "\n",
    "u5 = TrialFunction(Hh5)\n",
    "v5 = TestFunction(Hh5)\n",
    "l5 = psi*v5*ds5(1)\n",
    "a5 = kappaadim*inner(grad(u5), grad(v5))*dx\n",
    "\n",
    "u5 = Function(Hh5)\n",
    "\n",
    "solve(a5 == l5, u5, reD5)\n",
    "\n",
    "plu=plot(u5)\n",
    "plt.title('Solution numérique u5')\n",
    "plt.xlabel('x')\n",
    "plt.ylabel('y')\n",
    "plt.colorbar(plu)"
   ]
  },
  {
   "cell_type": "markdown",
   "metadata": {},
   "source": [
    "**P.3** Compare the influxes ant outfluxes obtained with the $\\mathbb{P}1$ method and the $\\mathbb{P}2$ method and comment the result."
   ]
  },
  {
   "cell_type": "code",
   "execution_count": 29,
   "metadata": {},
   "outputs": [
    {
     "name": "stdout",
     "output_type": "stream",
     "text": [
      "difference= 0.0018572800357003483\n"
     ]
    }
   ],
   "source": [
    "influx5 = assemble(Dx(u5,0)*ds5(1))\n",
    "\n",
    "re5.mark(boundaries5, 2)\n",
    "outflux5 = assemble(Dx(u5,0)*ds5(2))\n",
    "print(\"difference=\",abs(outflux5-influx5))"
   ]
  },
  {
   "cell_type": "markdown",
   "metadata": {},
   "source": [
    "## Adaptation of the conductivity"
   ]
  },
  {
   "cell_type": "markdown",
   "metadata": {},
   "source": [
    "Consider now the whole domain $\\Omega$ with no hole and a variable conductivity ${\\kappa_{var}:(x,y)\\mapsto (\\kappa-10^{-8})\\mathbf{1}_{\\{(x,y)\\in\\Omega \\,:\\, (x-X/2)^{2}+(y-Y/2)^{2}>r^{2}\\}}}+10^{-8}$."
   ]
  },
  {
   "cell_type": "markdown",
   "metadata": {},
   "source": [
    "**P.1** Code the second approach.\n",
    "\n",
    "FEniCS keywords: *SpatialCoordinate*, *conditional*"
   ]
  },
  {
   "cell_type": "code",
   "execution_count": 30,
   "metadata": {},
   "outputs": [
    {
     "data": {
      "text/plain": [
       "<matplotlib.colorbar.Colorbar at 0x7f9bfdef14f0>"
      ]
     },
     "execution_count": 30,
     "metadata": {},
     "output_type": "execute_result"
    },
    {
     "data": {
      "image/png": "[encoded data removed]",
      "text/plain": [
       "<Figure size 432x288 with 3 Axes>"
      ]
     },
     "metadata": {
      "needs_background": "light"
     },
     "output_type": "display_data"
    },
    {
     "data": {
      "image/png": "[encoded data removed]",
      "text/plain": [
       "<Figure size 432x288 with 4 Axes>"
      ]
     },
     "metadata": {
      "needs_background": "light"
     },
     "output_type": "display_data"
    }
   ],
   "source": [
    "mesh6 = RectangleMesh(Point(0.0, 0.0), Point(X, Y), nx5, ny5, diagonal=\"left\") \n",
    "\n",
    "plt.figure(1)\n",
    "plt.subplots_adjust(wspace=0.7)\n",
    "plt.subplot(1, 2, 1)\n",
    "plt.xlabel('x')\n",
    "plt.ylabel('y')\n",
    "plot(mesh6, title=\"Maillage du rectangle\")\n",
    "\n",
    "x = SpatialCoordinate(mesh6)\n",
    "kappa6 = conditional(gt((x[0]-xc)**2+(x[1]-yc)**2, r**2), kappaadim, Constant(1e-8))\n",
    "\n",
    "plt.subplot(1, 2, 2)\n",
    "plk=plot(kappa6,title='$\\kappa$')\n",
    "plt.xlabel('x')\n",
    "plt.ylabel('y')\n",
    "plt.colorbar(plk,fraction=0.046, pad=0.04)\n",
    "\n",
    "Hh6 = FunctionSpace(mesh6, 'P', ordre)\n",
    "\n",
    "class RightEdge6(SubDomain):\n",
    "    def inside(self, x, on_boundary):\n",
    "        return on_boundary and (abs(x[0] - 1) < tol) \n",
    "    \n",
    "re6 = RightEdge6()\n",
    "reD6 = DirichletBC(Hh6, Constant(1.0), re6)\n",
    "\n",
    "class LeftEdge6(SubDomain):\n",
    "    def inside(self, x, on_boundary):\n",
    "        return on_boundary and (abs(x[0] - 0) < tol)\n",
    "    \n",
    "leN6 = LeftEdge6()\n",
    "\n",
    "boundaries6 = MeshFunction(\"size_t\", mesh6, mesh6.topology().dim()-1, 0)\n",
    "\n",
    "leN6.mark(boundaries6, 1)\n",
    "\n",
    "ds6 = Measure(\"ds\", domain=mesh6, subdomain_data=boundaries6)\n",
    "            \n",
    "u6 = TrialFunction(Hh6)\n",
    "v6 = TestFunction(Hh6)\n",
    "l6 = psi*v6*ds6(1)\n",
    "a6 = kappa6*inner(grad(u6), grad(v6))*dx\n",
    "\n",
    "u6 = Function(Hh6)\n",
    "\n",
    "solve(a6 == l6, u6, reD6)\n",
    "\n",
    "w6 = conditional(gt((x[0]-xc)**2+(x[1]-yc)**2, r**2), u6, Constant(0.0))\n",
    "\n",
    "plt.figure(2)\n",
    "plt.subplots_adjust(wspace=0.7)\n",
    "plt.subplot(1, 2, 1)\n",
    "plu5=plot(u5,title='Avec trou')\n",
    "plt.xlabel('x')\n",
    "plt.ylabel('y')\n",
    "plt.colorbar(plu5,fraction=0.046, pad=0.04)\n",
    "plt.subplot(1, 2, 2)\n",
    "plu6=plot(w6,title='$\\kappa$ variable')\n",
    "plt.xlabel('x')\n",
    "plt.ylabel('y')\n",
    "plt.colorbar(plu6,fraction=0.046, pad=0.04)\n",
    "\n"
   ]
  },
  {
   "cell_type": "markdown",
   "metadata": {},
   "source": [
    "**P.2**  Compute the difference between the influxes and outfluxes computed with these two approaches. \n",
    "\n",
    "*Remark*  The difference between the influx and the outflux obtained with the variable conductivity method is more stable wrt a variation of the radius of the hole than the method consisting in changing of geometry, which requires remeshing and increases the condition number of the matrix."
   ]
  },
  {
   "cell_type": "code",
   "execution_count": 31,
   "metadata": {},
   "outputs": [
    {
     "name": "stdout",
     "output_type": "stream",
     "text": [
      "influx6= -0.4728761211767612\n",
      "outflux6= -0.5024175728829091\n",
      "différence : influx5-influx6= -0.024976821050550546  ; outflux5-outflux6= 0.00270735061989702\n"
     ]
    }
   ],
   "source": [
    "influx6 = assemble(Dx(u6,0)*ds6(1))\n",
    "print(\"influx6=\",influx6)\n",
    "\n",
    "re6.mark(boundaries6, 2)\n",
    "outflux6 = assemble(Dx(u6,0)*ds6(2))\n",
    "print(\"outflux6=\",outflux6)\n",
    "\n",
    "print(\"différence : influx5-influx6=\",influx5-influx6,\" ; outflux5-outflux6=\",outflux5-outflux6)\n"
   ]
  },
  {
   "cell_type": "markdown",
   "metadata": {},
   "source": [
    "**P.3** Create another mesh with a slightly larger hole and interpolate the solutions u5 et u6 on this domain. Plot the difference. Conclude."
   ]
  },
  {
   "cell_type": "code",
   "execution_count": 32,
   "metadata": {},
   "outputs": [
    {
     "data": {
      "text/plain": [
       "<matplotlib.colorbar.Colorbar at 0x7f9bfddca670>"
      ]
     },
     "execution_count": 32,
     "metadata": {},
     "output_type": "execute_result"
    },
    {
     "data": {
      "image/png": "[encoded data removed]",
      "text/plain": [
       "<Figure size 432x288 with 2 Axes>"
      ]
     },
     "metadata": {
      "needs_background": "light"
     },
     "output_type": "display_data"
    }
   ],
   "source": [
    "nx7=100\n",
    "base_compare = Rectangle(Point(0.0, 0.0), Point(X, Y))\n",
    "hole_compare = Circle(Point(xc, yc), 1.1*r)\n",
    "mesh7 = generate_mesh(base - hole, nx7)\n",
    "\n",
    "P7 = FunctionSpace(mesh7, \"Lagrange\", 2)\n",
    "\n",
    "v7 = Function(P7)\n",
    "v7.interpolate(u5)\n",
    "\n",
    "w7 = Function(P7)\n",
    "w7.interpolate(u6)\n",
    "\n",
    "plu7=plot(v7-w7,title='Différence entre les deux approches')\n",
    "plt.xlabel('x')\n",
    "plt.ylabel('y')\n",
    "plt.colorbar(plu7,fraction=0.046, pad=0.04)\n"
   ]
  },
  {
   "cell_type": "markdown",
   "metadata": {},
   "source": [
    "**Q.1** Why do we fix $\\kappa=10^{-8}$ in the hole? Try $0$ instead."
   ]
  },
  {
   "cell_type": "markdown",
   "metadata": {},
   "source": [
    "**Solution**"
   ]
  },
  {
   "cell_type": "markdown",
   "metadata": {},
   "source": [
    "# Simulation of the stationary problem in a domain with holes randomly scattered"
   ]
  },
  {
   "cell_type": "markdown",
   "metadata": {},
   "source": [
    "We now want to solve numerically the problem in a domain with holes. Their number is random and follows a Poisson law with parameter 5. Their centers are random and follow a normal law with mean the center of the domain and variance 0.1. Their radii are random and follow an exponential law with parameter 5."
   ]
  },
  {
   "cell_type": "code",
   "execution_count": 33,
   "metadata": {},
   "outputs": [],
   "source": [
    "param_poisson = 5\n",
    "scale_exp = 1/5\n",
    "var_c = 0.1\n",
    "nx8 = 100\n",
    "ny8 = 100\n",
    "ordre = 2"
   ]
  },
  {
   "cell_type": "markdown",
   "metadata": {},
   "source": [
    "**P.1** Draw up the number of holes, their radii and their centers.\n",
    "\n",
    "numpy keywords : *poisson*, *exponential*, *normal*"
   ]
  },
  {
   "cell_type": "code",
   "execution_count": 34,
   "metadata": {},
   "outputs": [
    {
     "name": "stdout",
     "output_type": "stream",
     "text": [
      "xc [0.58401513 0.47568836 0.42822461 0.50721616]\n",
      "yc [0.35865302 0.57933523 0.52352132 0.61034992]\n",
      "r [0.22786806 0.29467438 0.13676069 0.22713025]\n"
     ]
    }
   ],
   "source": [
    "from numpy import *\n",
    "nb_holes = random.poisson(param_poisson)\n",
    "radius = zeros((nb_holes))\n",
    "xcenter = zeros((nb_holes))\n",
    "ycenter = zeros((nb_holes))\n",
    "\n",
    "for i in range(nb_holes):\n",
    "    radius[i] = random.exponential(scale_exp)\n",
    "    xcenter[i] = random.normal(xc,var_c)\n",
    "    ycenter[i] = random.normal(yc,var_c)\n",
    "    \n",
    "print(\"xc\",xcenter)\n",
    "print(\"yc\",ycenter)\n",
    "print(\"r\",radius)\n"
   ]
  },
  {
   "cell_type": "markdown",
   "metadata": {},
   "source": [
    "**P.2** Define an adapted conductivity and plot it."
   ]
  },
  {
   "cell_type": "code",
   "execution_count": 35,
   "metadata": {},
   "outputs": [
    {
     "name": "stdout",
     "output_type": "stream",
     "text": [
      "Calling FFC just-in-time (JIT) compiler, this may take some time.\n",
      "Calling FFC just-in-time (JIT) compiler, this may take some time.\n"
     ]
    },
    {
     "data": {
      "text/plain": [
       "<matplotlib.colorbar.Colorbar at 0x7f9bfde790d0>"
      ]
     },
     "execution_count": 35,
     "metadata": {},
     "output_type": "execute_result"
    },
    {
     "data": {
      "image/png": "[encoded data removed]",
      "text/plain": [
       "<Figure size 432x288 with 5 Axes>"
      ]
     },
     "metadata": {
      "needs_background": "light"
     },
     "output_type": "display_data"
    }
   ],
   "source": [
    "mesh8 = RectangleMesh(Point(0.0, 0.0), Point(X, Y), nx8, ny8, diagonal=\"left\") \n",
    "\n",
    "plt.figure(1)\n",
    "plt.subplots_adjust(wspace=0.7)\n",
    "plt.subplot(1, 3, 1)\n",
    "plt.xlabel('x')\n",
    "plt.ylabel('y')\n",
    "plot(mesh8, title=\"Maillage du rectangle\")\n",
    "\n",
    "x = SpatialCoordinate(mesh8)\n",
    "flaw = 0.\n",
    "maxval = 1-1e-8\n",
    "\n",
    "for i in range(nb_holes):\n",
    "    flaw = flaw + conditional(lt((x[0]-xcenter[i])**2+(x[1]-ycenter[i])**2, radius[i]**2), maxval, Constant(1e-8))\n",
    "\n",
    "plt.subplot(1, 3, 2)\n",
    "plk=plot(flaw,title='flaw')\n",
    "plt.xlabel('x')\n",
    "plt.ylabel('y')\n",
    "plt.colorbar(plk,fraction=0.046, pad=0.04)\n",
    "\n",
    "flaw = conditional(gt(flaw,maxval),maxval,flaw)    \n",
    "kappa8 = kappaadim - flaw\n",
    "    \n",
    "plt.subplot(1, 3, 3)\n",
    "plk=plot(kappa8,title='$\\kappa8$')\n",
    "plt.xlabel('x')\n",
    "plt.ylabel('y')\n",
    "plt.colorbar(plk,fraction=0.046, pad=0.04)\n"
   ]
  },
  {
   "cell_type": "markdown",
   "metadata": {},
   "source": [
    "**P.3** Solve the problem numerically."
   ]
  },
  {
   "cell_type": "code",
   "execution_count": 36,
   "metadata": {},
   "outputs": [
    {
     "name": "stdout",
     "output_type": "stream",
     "text": [
      "Calling FFC just-in-time (JIT) compiler, this may take some time.\n"
     ]
    },
    {
     "data": {
      "text/plain": [
       "<matplotlib.colorbar.Colorbar at 0x7f9bfd54e9a0>"
      ]
     },
     "execution_count": 36,
     "metadata": {},
     "output_type": "execute_result"
    },
    {
     "data": {
      "image/png": "[encoded data removed]",
      "text/plain": [
       "<Figure size 432x288 with 2 Axes>"
      ]
     },
     "metadata": {
      "needs_background": "light"
     },
     "output_type": "display_data"
    }
   ],
   "source": [
    "Hh8 = FunctionSpace(mesh8, 'P', ordre)\n",
    "\n",
    "class RightEdge8(SubDomain):\n",
    "    def inside(self, x, on_boundary):\n",
    "        return on_boundary and (abs(x[0] - 1) < tol) \n",
    "    \n",
    "re8 = RightEdge8()\n",
    "reD8 = DirichletBC(Hh8, Constant(1.0), re8)\n",
    "\n",
    "class LeftEdge8(SubDomain):\n",
    "    def inside(self, x, on_boundary):\n",
    "        return on_boundary and (abs(x[0] - 0) < tol)\n",
    "    \n",
    "leN8 = LeftEdge8()\n",
    "\n",
    "boundaries8 = MeshFunction(\"size_t\", mesh8, mesh8.topology().dim()-1, 0)\n",
    "\n",
    "leN8.mark(boundaries8, 1)\n",
    "\n",
    "ds8 = Measure(\"ds\", domain=mesh8, subdomain_data=boundaries8)\n",
    "            \n",
    "u8 = TrialFunction(Hh8)\n",
    "v8 = TestFunction(Hh8)\n",
    "l8 = psi*v8*ds8(1)\n",
    "a8 = kappa8*inner(grad(u8), grad(v8))*dx\n",
    "\n",
    "u8 = Function(Hh8)\n",
    "\n",
    "solve(a8 == l8, u8, reD8)\n",
    "\n",
    "plt.figure(2)\n",
    "plu8=plot(u8,title='Solution numérique u8')\n",
    "plt.xlabel('x')\n",
    "plt.ylabel('y')\n",
    "plt.colorbar(plu8,fraction=0.046, pad=0.04)\n"
   ]
  },
  {
   "cell_type": "markdown",
   "metadata": {},
   "source": [
    "**P.4** Is the term \"thermal invisibility\" still relevant ?"
   ]
  },
  {
   "cell_type": "code",
   "execution_count": 37,
   "metadata": {},
   "outputs": [
    {
     "name": "stdout",
     "output_type": "stream",
     "text": [
      "difference= 7.099100785434853e-05\n"
     ]
    }
   ],
   "source": [
    "influx8 = assemble(Dx(u8,0)*ds8(1))\n",
    "\n",
    "re8.mark(boundaries8, 2)\n",
    "outflux8 = assemble(Dx(u8,0)*ds8(2))\n",
    "\n",
    "print(\"difference=\",abs(outflux8-influx8))\n",
    "\n"
   ]
  },
  {
   "cell_type": "markdown",
   "metadata": {},
   "source": [
    "# Bibliography"
   ]
  },
  {
   "cell_type": "markdown",
   "metadata": {
    "heading_collapsed": true
   },
   "source": [
    "## FEniCS\n",
    "\n",
    "Documentation : https://fenicsproject.org/documentation/\n",
    "\n",
    "Getting started : http://www-users.math.umn.edu/~arnold/8445/fenics-getting-started.pdf\n",
    "\n",
    "UFL : https://fenics.readthedocs.io/projects/ufl/en/latest/manual/form_language.html\n",
    "\n"
   ]
  },
  {
   "cell_type": "markdown",
   "metadata": {},
   "source": [
    "## Markdown\n",
    "\n",
    "https://github.com/adam-p/markdown-here/wiki/Markdown-Cheatsheet\n",
    "\n"
   ]
  },
  {
   "cell_type": "code",
   "execution_count": null,
   "metadata": {},
   "outputs": [],
   "source": []
  },
  {
   "cell_type": "code",
   "execution_count": null,
   "metadata": {},
   "outputs": [],
   "source": []
  }
 ],
 "metadata": {
  "kernelspec": {
   "display_name": "Python 3",
   "language": "python",
   "name": "python3"
  },
  "language_info": {
   "codemirror_mode": {
    "name": "ipython",
    "version": 3
   },
   "file_extension": ".py",
   "mimetype": "text/x-python",
   "name": "python",
   "nbconvert_exporter": "python",
   "pygments_lexer": "ipython3",
   "version": "3.8.5"
  },
  "toc": {
   "base_numbering": 1,
   "nav_menu": {},
   "number_sections": true,
   "sideBar": true,
   "skip_h1_title": false,
   "title_cell": "Invisibilité thermique",
   "title_sidebar": "Invisibilité thermique",
   "toc_cell": true,
   "toc_position": {
    "height": "calc(100% - 180px)",
    "left": "10px",
    "top": "150px",
    "width": "189px"
   },
   "toc_section_display": true,
   "toc_window_display": true
  }
 },
 "nbformat": 4,
 "nbformat_minor": 2
}
