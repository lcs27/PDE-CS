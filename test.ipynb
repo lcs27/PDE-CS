{
 "cells": [
  {
   "cell_type": "code",
   "execution_count": 1,
   "id": "jewish-eating",
   "metadata": {},
   "outputs": [],
   "source": [
    "from fenics import *\n",
    "import matplotlib.pyplot as plt"
   ]
  },
  {
   "cell_type": "code",
   "execution_count": 2,
   "id": "official-albany",
   "metadata": {},
   "outputs": [],
   "source": [
    "mesh = IntervalMesh(20, 0.0, 1.0)\n",
    "V = FunctionSpace(mesh, 'P', 1)"
   ]
  },
  {
   "cell_type": "code",
   "execution_count": 3,
   "id": "mysterious-bangkok",
   "metadata": {},
   "outputs": [],
   "source": [
    "u_D = Expression('0', degree=0)\n",
    "\n",
    "def boundary(x):\n",
    "    tol = 1E-10\n",
    "    return abs(x[0]) < tol or abs(x[0]-1) < tol\n",
    "\n",
    "bc = DirichletBC(V, u_D, boundary)"
   ]
  },
  {
   "cell_type": "code",
   "execution_count": 4,
   "id": "tired-browser",
   "metadata": {},
   "outputs": [],
   "source": [
    "u = TrialFunction(V)\n",
    "v = TestFunction(V)\n",
    "f = Constant(1.0)\n",
    "a = dot(grad(u), grad(v))*dx\n",
    "L = f*v*dx"
   ]
  },
  {
   "cell_type": "code",
   "execution_count": 5,
   "id": "extensive-viking",
   "metadata": {},
   "outputs": [],
   "source": [
    "u = Function(V)\n",
    "solve(a == L, u, bc)"
   ]
  },
  {
   "cell_type": "code",
   "execution_count": 6,
   "id": "institutional-impossible",
   "metadata": {},
   "outputs": [
    {
     "data": {
      "image/png": "[encoded data removed]",
      "text/plain": [
       "<Figure size 432x288 with 1 Axes>"
      ]
     },
     "metadata": {
      "needs_background": "light"
     },
     "output_type": "display_data"
    }
   ],
   "source": [
    "plot(u)\n",
    "plot(mesh)\n",
    "plt.show()"
   ]
  },
  {
   "cell_type": "code",
   "execution_count": 7,
   "id": "polished-beaver",
   "metadata": {},
   "outputs": [
    {
     "name": "stdout",
     "output_type": "stream",
     "text": [
      "1771\n",
      "\n"
     ]
    }
   ],
   "source": [
    "from fenics import *\n",
    "import matplotlib.pyplot as plt\n",
    "\n",
    "mesh = IntervalMesh (26, 0.0, 3)\n",
    "V = FunctionSpace (mesh, 'P', 1)\n",
    "\n",
    "u_D = Expression('0',degree=0)\n",
    "\n",
    "def boundary(x):\n",
    "    tol = 1E-10\n",
    "    return abs(x[0])<tol or abs(x[0]-3)<tol\n",
    "\n",
    "bc = DirichletBC (V, u_D, boundary)\n",
    "\n",
    "u = TrialFunction(V)\n",
    "v = TestFunction(V)\n",
    "f = Constant(2)\n",
    "a = dot(grad(u),grad(v))*dx\n",
    "L = f*v*dx\n",
    "\n",
    "u = Function(V)\n",
    "solve(a==L, u, bc)\n",
    "\n",
    "print(\"%3.0f\\n\"%(u.vector()[7]*1000))"
   ]
  },
  {
   "cell_type": "code",
   "execution_count": null,
   "id": "exact-spyware",
   "metadata": {},
   "outputs": [],
   "source": []
  }
 ],
 "metadata": {
  "kernelspec": {
   "display_name": "Python 3",
   "language": "python",
   "name": "python3"
  },
  "language_info": {
   "codemirror_mode": {
    "name": "ipython",
    "version": 3
   },
   "file_extension": ".py",
   "mimetype": "text/x-python",
   "name": "python",
   "nbconvert_exporter": "python",
   "pygments_lexer": "ipython3",
   "version": "3.8.5"
  }
 },
 "nbformat": 4,
 "nbformat_minor": 5
}
