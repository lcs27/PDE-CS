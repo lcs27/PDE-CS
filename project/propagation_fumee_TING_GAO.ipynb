{
  "nbformat": 4,
  "nbformat_minor": 0,
  "metadata": {
    "colab": {
      "name": "gt",
      "provenance": [],
      "collapsed_sections": [],
      "machine_shape": "hm"
    },
    "kernelspec": {
      "name": "python3",
      "display_name": "Python 3"
    }
  },
  "cells": [
    {
      "cell_type": "markdown",
      "metadata": {
        "id": "HTqn_1DZkdM1",
        "colab_type": "text"
      },
      "source": [
        "**Nom :** GAO \n",
        "\n",
        "**Prénom :**Ting"
      ]
    },
    {
      "cell_type": "markdown",
      "metadata": {
        "id": "0XKZg8sGUa_Z",
        "colab_type": "text"
      },
      "source": [
        "<h1>Propagation de la fumée dans la chambre<span class=\"tocSkip\"></span></h1>\n",
        "<div class=\"toc\"><ul class=\"toc-item\"><li><span><a href=\"#Présentation-du-problème\" data-toc-modified-id=\"Présentation-du-problème-1\"><span class=\"toc-item-num\">1&nbsp;&nbsp;</span>Présentation du problème</a></span></li><li><span>\n",
        "<a href=\"#Démarche\" data-toc-modified-id=\"Démarche\"><span class=\"toc-item-num\">2&nbsp;&nbsp;</span>1D : Démarche</a></span><ul class=\"toc-item\"><li><span>\n",
        "<a href=\"#Cas-générale-de-résolution\" data-toc-modified-id=\"#Cas-générale-de-résolution-2.1\"><span class=\"toc-item-num\">2.1&nbsp;&nbsp;</span>Cas générale de résolution</a></span></li><li><span><a href=\"#L'influence-de-type-de-repas\" data-toc-modified-id=\"L'influence-de-type-de-repas-2.2\"><span class=\"toc-item-num\">2.2&nbsp;&nbsp;</span>L'influence de type de repas</a></span></li><li><span><a href=\"#L'influence-du-vent-(variable-aléatoire)\" data-toc-modified-id=\"L'influence-du-vent-(variable-aléatoire)-2.3\"><span class=\"toc-item-num\">2.3&nbsp;&nbsp;</span>L'influence du vent (variable aléatoire)</a></span></li></ul></li><li><span><a href=\"#Bibliographie\" data-toc-modified-id=\"#Bibliographie-3\"><span class=\"toc-item-num\">3&nbsp;&nbsp;</span>Bibliographie</a></span></li>"
      ]
    },
    {
      "cell_type": "markdown",
      "metadata": {
        "id": "EFh0vLJgtVWr",
        "colab_type": "text"
      },
      "source": [
        "# Présentation du problème"
      ]
    },
    {
      "cell_type": "markdown",
      "metadata": {
        "id": "iNXuaDYvleXE",
        "colab_type": "text"
      },
      "source": [
        "Pendant cette période de fermeture de l'école, beaucoup d'élève en confinement à CentraleSupélec cuisinent eux-même et on entend plus souvent le son des decteurs de fumée. Dans ce projet, on va s'intéresser à la propagation de la fumée dans une cuisine. On modélisera ce phénomène par l'équation de Navier-Stokes dans la mécanique des milieux continus: \n",
        "\\begin{equation}\n",
        "\\frac{du}{dt}=-(r\\cdot\\nabla)u +S -\\nabla (\\kappa\\nabla u) \n",
        "\\end{equation}\n",
        "\n",
        "où $r$ sigifie la vitesse de fluide, $u$ la concentration de fumée, $S$ la concentration originale, $\\kappa$ le coefficient de diffusivité, pour la simplification, on néglige la concentration originale $(S=0)$, le vent reste stationnaire dans la chambre ($r=0$ à l'intérieur de $\\Omega$)par ailleurs, on se place dans le cas stationnaire et $\\kappa$ reste constante."
      ]
    },
    {
      "cell_type": "markdown",
      "metadata": {
        "id": "p3jX_9U57fg2",
        "colab_type": "text"
      },
      "source": [
        "Dans la suite, on va simuler une chambre à résidence 4A de Césal, on considère que la concentration $u$ est indépendante de la hauteur, la chambre peut ainsi être représentée par une rectangle $\\Omega=ABCD$ avec conditions aux limites mêlées. La concentration $u$ reste invariante $u_0$ au-dessus des plaques à induction. Les plaques occupent une place de carré dont le centre est $x=0.9, y=1.9$ et la longeur de côté est de 0,5 mètre, la fenêtre se situe au fond de la chambre et mesure 2 mètres de largeur.La position du détecteur de fumée est $x=3, y=2.5$"
      ]
    },
    {
      "cell_type": "markdown",
      "metadata": {
        "id": "hQlsAYjAaLBf",
        "colab_type": "text"
      },
      "source": [
        "![图片.png](data:image/png;base64,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)"
      ]
    },
    {
      "cell_type": "markdown",
      "metadata": {
        "id": "EOp3-EjU7lqB",
        "colab_type": "text"
      },
      "source": [
        "Notre équation devient ainsi :\n",
        "\n",
        "\\begin{equation}\\begin{cases}\n",
        "-\\nabla (k\\nabla u)=0 \\qquad \\mbox{ sur }\\Omega\\\\ \n",
        "(CL)\\begin{cases}\n",
        "-\\kappa\\partial_{x}u=0 \\qquad \\mbox{ sur }[AB]\\\\\n",
        "-\\kappa\\partial_{y}u=0 \\qquad \\mbox{ sur }[BC]\\\\\n",
        "u=u_0 \\qquad \\mbox{ quand } x \\in [0.8,1],y\\in[1.8,2]\\\\\n",
        "-\\kappa\\partial_{x}u=r*(u-S) \\qquad \\mbox{ quand } y\\in [0.5,2,5] \\mbox{ sur } [CD]\\\\\n",
        "-\\kappa\\partial_{x}u=0 \\qquad \\mbox{ quand }y\\not\\in [0.5,2,5] \\mbox{ sur } [CD]\\\\\n",
        "-\\kappa\\partial_{y}u=0 \\qquad \\mbox{ sur }[DA]\\\\\n",
        "\\end{cases}\\end{cases}\\end{equation}\n",
        "\n",
        "où les valeurs numériques sont\n",
        "\n",
        "\\begin{equation*}\\begin{cases}\n",
        "X=d(B,C)=d(D,A)=6\\,m\\\\\n",
        "Y=d(A,B)=d(C,D)=3\\,m\\\\\n",
        "\\kappa=0.05m^{2}.s^{-1}\\\\\n",
        "\\end{cases}\\end{equation*}\n",
        "et S est la concentration de la fumée de la'autre côté de la fenêtre qui est considérée égale à 0 et $r$ siginifie la vitesse du vent à la fenêtre.\n"
      ]
    },
    {
      "cell_type": "markdown",
      "metadata": {
        "id": "w2Lx8oQ1Q5A4",
        "colab_type": "text"
      },
      "source": [
        "#Démarche"
      ]
    },
    {
      "cell_type": "markdown",
      "metadata": {
        "id": "VBWPF3sbZW47",
        "colab_type": "text"
      },
      "source": [
        "##Cas générale de résolution"
      ]
    },
    {
      "cell_type": "markdown",
      "metadata": {
        "id": "wZXeLlXBZpiR",
        "colab_type": "text"
      },
      "source": [
        "Ici on essaye de résoudre notre problème en défissant les paramètres de manière définitive, on va proposer d'abord la fonctionnalité *solver_bcs*, dans cette fonctionnalité, on prend $\\kappa$, $u_0$, $r$ comme paramètres d'entrée, et donne $u$ comme sortie. L'explications des codes sont notées comme notation au-dessous."
      ]
    },
    {
      "cell_type": "code",
      "metadata": {
        "id": "HgcTUg0FoHe1",
        "colab_type": "code",
        "colab": {}
      },
      "source": [
        "from fenics import *\n",
        "from dolfin import *\n",
        "import numpy as np\n",
        "import sympy as sym\n",
        "import matplotlib.pyplot as plt"
      ],
      "execution_count": 0,
      "outputs": []
    },
    {
      "cell_type": "code",
      "metadata": {
        "id": "-E8YJsfEc6bJ",
        "colab_type": "code",
        "colab": {}
      },
      "source": [
        "def solver_bcs(u_0, r, Nx, Ny, degree=1):\n",
        "    \n",
        "    # Create mesh and define function space\n",
        "    mesh = RectangleMesh(Point(0, 0), Point(6, 3), Nx, Ny)\n",
        "    V = FunctionSpace(mesh, 'P', degree)\n",
        "\n",
        "    # Define boundary subdomains\n",
        "    tol = 1e-14\n",
        "\n",
        "    #Define boundaries\n",
        "    class BoundaryX0(SubDomain):\n",
        "      def inside(self, x, on_boundary):\n",
        "        return on_boundary and near(x[0], 0, tol)\n",
        "\n",
        "    class BoundaryX1(SubDomain):\n",
        "      def inside(self, x, on_boundary):\n",
        "        return x[0]<=1+tol and x[0] >= 0.8+tol and x[1] >= 1.8 + tol and x[1] <= 2 + tol #subdomain of the induction hobs\n",
        "\n",
        "    class BoundaryX2_1(SubDomain):\n",
        "      def inside(self, x, on_boundary):\n",
        "        return on_boundary and near(x[0], 6, tol) and x[1]<=2.5+tol and x[1]>=0.5-tol #subdomain of the window\n",
        "\n",
        "    class BoundaryX2_2(SubDomain):\n",
        "      def inside(self, x, on_boundary):\n",
        "        return on_boundary and near(x[0], 6, tol) and (x[1]>=2.5-tol or x[1]<=0.5+tol) \n",
        "\n",
        "    class BoundaryY0(SubDomain):\n",
        "      def inside(self, x, on_boundary):\n",
        "        return on_boundary and near(x[1], 0, tol)\n",
        "\n",
        "    class BoundaryY1(SubDomain):\n",
        "      def inside(self, x, on_boundary):\n",
        "        return on_boundary and near(x[1], 3, tol)\n",
        "    \n",
        "\n",
        "    # Mark boundaries\n",
        "    boundary_markers = MeshFunction(\"size_t\", mesh, mesh.topology().dim()-1, 0)\n",
        "    boundary_markers.set_all(9999)\n",
        "    bx0 = BoundaryX0()\n",
        "    bx1 = BoundaryX1()\n",
        "    bx2_1 = BoundaryX2_1()\n",
        "    bx2_2 = BoundaryX2_2()\n",
        "    by0 = BoundaryY0()\n",
        "    by1 = BoundaryY1()\n",
        "    bx0.mark(boundary_markers,0)\n",
        "    bx1.mark(boundary_markers,1)\n",
        "    bx2_1.mark(boundary_markers,2)\n",
        "    bx2_2.mark(boundary_markers,3)\n",
        "    by0.mark(boundary_markers,4)\n",
        "    by1.mark(boundary_markers,5)\n",
        "    \n",
        "    # Redefine boundary integration measure\n",
        "    ds = Measure('ds', domain=mesh, subdomain_data=boundary_markers)\n",
        "\n",
        "    # Define trial and test functions\n",
        "    u = TrialFunction(V)\n",
        "    v = TestFunction(V)\n",
        "    \n",
        "    #Define boundary condiations\n",
        "    variables = [Constant(u_0), Constant(r)]\n",
        "    variables = [sym.printing.ccode(var) for var in variables]\n",
        "    variables = [Expression(var,degree = 2) for var in variables]\n",
        "    u_0, r = variables\n",
        "    boundary_conditions = {\n",
        "      0:{'Neumann':Constant(0)}, \n",
        "      1:{'Dirichlet':u_0}, \n",
        "      2:{'Robin':(r,Constant(0))},\n",
        "      3:{'Neumann':Constant(0)},\n",
        "      4:{'Neumann':Constant(0)},\n",
        "      5:{'Neumann':Constant(0)}\n",
        "      }\n",
        "\n",
        "    # Collect Dirichlet conditions\n",
        "    bcs = []\n",
        "    bc = DirichletBC(V, boundary_conditions[1]['Dirichlet'],boundary_markers, 1)\n",
        "    bcs.append(bc)\n",
        "\n",
        "    # Collect Robin integrals\n",
        "    integrals_R = []\n",
        "    r, s = boundary_conditions[2]['Robin']\n",
        "    integrals_R.append(r*(u - s)*v*ds(2))\n",
        "\n",
        "    # In our case, the Neumann condition is 0, so we don't have to collect it\n",
        "    \n",
        "    # Sum integrals to define variational problem\n",
        "    kappa = Constant(0.05)\n",
        "    f = Constant(0)\n",
        "    F = kappa*dot(grad(u), grad(v))*dx + \\\n",
        "        sum(integrals_R) - f*v*dx\n",
        "    a, L = lhs(F), rhs(F)\n",
        "\n",
        "    # Compute solution\n",
        "    u = Function(V)\n",
        "    solve(a == L, u, bcs)\n",
        "    type\n",
        "    return u"
      ],
      "execution_count": 0,
      "outputs": []
    },
    {
      "cell_type": "markdown",
      "metadata": {
        "id": "Pq6jxNtWq5QA",
        "colab_type": "text"
      },
      "source": [
        "On prend $\\kappa$ égal à 0.05 $m^{2}.s^{-1}$, $u_0$ égal à 9 $mg.m^{-3}$, la fenêtre est fermée, c'est-à-dire que $r=0$. on va faire fonctionner notre *slover* et obtient la concentration à la position de detecteur de fuméé :"
      ]
    },
    {
      "cell_type": "code",
      "metadata": {
        "id": "7sfZ264YyMUt",
        "colab_type": "code",
        "outputId": "36a25d81-5900-40e9-d365-d1573b8e8482",
        "colab": {
          "base_uri": "https://localhost:8080/",
          "height": 284
        }
      },
      "source": [
        "import matplotlib.pyplot as plt\n",
        "def solver_u():\n",
        "  u = solver_bcs(9, 0, 500, 500)\n",
        "  plu=plot(u)\n",
        "  plt.colorbar(plu,fraction=0.2, pad=0.04)\n",
        "  detect_point = (3,2.5)\n",
        "  print(\"La concentrarion de la fumée détectée est : %s mg.m^{-3}\"%(u(detect_point)))\n",
        "\n",
        "solver_u()"
      ],
      "execution_count": 14,
      "outputs": [
        {
          "output_type": "stream",
          "text": [
            "La concentrarion de la fumée détectée est : 9.000000000155945 mg.m^{-3}\n"
          ],
          "name": "stdout"
        },
        {
          "output_type": "display_data",
          "data": {
            "image/png": "[encoded data removed]",
            "text/plain": [
              "<Figure size 432x288 with 2 Axes>"
            ]
          },
          "metadata": {
            "tags": [],
            "needs_background": "light"
          }
        }
      ]
    },
    {
      "cell_type": "markdown",
      "metadata": {
        "id": "Rd-Py5hy5qEh",
        "colab_type": "text"
      },
      "source": [
        "On voit bien que la concentration la plus dense reste autour de la fenêtre car la fumée n'a pas d'endroit à diffuser, par ailleurs, avec la fenêtre fermée, la concentration de fumée détectée est un peu plus élevée que $u_0$. Si on prend 5 $mg.m^{-3}$ comme seuil d'alarme, le détecteur de fumée va bien alarmer."
      ]
    },
    {
      "cell_type": "markdown",
      "metadata": {
        "id": "sjTIoAKeIgNb",
        "colab_type": "text"
      },
      "source": [
        "##L'influence du type de repas"
      ]
    },
    {
      "cell_type": "markdown",
      "metadata": {
        "id": "niHkXum-88AW",
        "colab_type": "text"
      },
      "source": [
        "Quand on cuisine différents repas, on émet différents degrés de concentration de fumée, voici quelques exemples:"
      ]
    },
    {
      "cell_type": "markdown",
      "metadata": {
        "id": "EkvM9QaYQGaR",
        "colab_type": "text"
      },
      "source": [
        "![图片.png](data:image/png;base64,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)\n"
      ]
    },
    {
      "cell_type": "markdown",
      "metadata": {
        "id": "qP6905mqinWC",
        "colab_type": "text"
      },
      "source": [
        "On suppose tout d'abord que la fenêtre est ouverte et $r=0 \\; m.s^{−1}$, on obtient ainsi des concentrations de fumée détectées différentes pour différents repas."
      ]
    },
    {
      "cell_type": "code",
      "metadata": {
        "id": "76qIr-5iiNJR",
        "colab_type": "code",
        "outputId": "d3265cb1-ec2d-40fa-c921-1d83bdfa995e",
        "colab": {
          "base_uri": "https://localhost:8080/",
          "height": 280
        }
      },
      "source": [
        "import matplotlib.pyplot as plt\n",
        "repas = [2.9, 2.3, 3.0, 25.5, 1.5]\n",
        "name_list = [\"frire porc\",\"frire légumes\",\"frire poisson\",\"faire sauter\",\"cuisson\"]\n",
        "detect_point = (3,2.5)\n",
        "smoke_concentration = []\n",
        "for u_0 in repas :\n",
        "  u = solver_bcs(u_0, 0, 500, 500)\n",
        "  detect_concentration = u(detect_point)\n",
        "  smoke_concentration.append(u(detect_point))\n",
        "\n",
        "plt.grid(True)\n",
        "plt.bar(range(len(smoke_concentration)), smoke_concentration,color='blue',alpha = 0.2,tick_label=name_list)\n",
        "plt.xlabel(\"repas\")\n",
        "plt.ylabel(\"detected concentration\")\n",
        "plt.show()\n",
        "\n"
      ],
      "execution_count": 15,
      "outputs": [
        {
          "output_type": "display_data",
          "data": {
            "image/png": "[encoded data removed]",
            "text/plain": [
              "<Figure size 432x288 with 1 Axes>"
            ]
          },
          "metadata": {
            "tags": [],
            "needs_background": "light"
          }
        }
      ]
    },
    {
      "cell_type": "markdown",
      "metadata": {
        "id": "ItAS1seERTTi",
        "colab_type": "text"
      },
      "source": [
        "Supposons maintenant que la fenêtre est ouverte et $r = 10 m.s^{-1}$, on on s'intéresse encore une fois à la concentration de fumée détectée pour différents repas."
      ]
    },
    {
      "cell_type": "code",
      "metadata": {
        "id": "k0FslbBifqdc",
        "colab_type": "code",
        "outputId": "479f44bf-9bd3-45bc-e758-2b52c709f29e",
        "colab": {
          "base_uri": "https://localhost:8080/",
          "height": 280
        }
      },
      "source": [
        "import matplotlib.pyplot as plt\n",
        "repas = [2.9, 2.3, 3.0, 25.5, 1.5]\n",
        "name_list = [\"frire porc\",\"frire légumes\",\"frire poisson\",\"faire sauter\",\"cuisson\"]\n",
        "detect_point = (3,2.5)\n",
        "smoke_concentration = []\n",
        "for u_0 in repas :\n",
        "  u = solver_bcs(u_0, 10, 500, 500)\n",
        "  detect_concentration = u(detect_point)\n",
        "  smoke_concentration.append(u(detect_point))\n",
        "\n",
        "plt.grid(True)\n",
        "plt.bar(range(len(smoke_concentration)), smoke_concentration,color='blue',alpha = 0.2,tick_label=name_list)\n",
        "plt.xlabel(\"repas\")\n",
        "plt.ylabel(\"detected concentration\")\n",
        "plt.show()\n",
        "\n",
        "\n"
      ],
      "execution_count": 16,
      "outputs": [
        {
          "output_type": "display_data",
          "data": {
            "image/png": "[encoded data removed]",
            "text/plain": [
              "<Figure size 432x288 with 1 Axes>"
            ]
          },
          "metadata": {
            "tags": [],
            "needs_background": "light"
          }
        }
      ]
    },
    {
      "cell_type": "markdown",
      "metadata": {
        "id": "SE33snGtcjSY",
        "colab_type": "text"
      },
      "source": [
        "De ce résultat, on peut faire deux remarques :\n",
        "\n",
        "1.il est plus facile de déclencher le détecteur quand on cuisine en faisant sauter les ingrédients\n",
        "\n",
        "2.en ouvrant la fenêtre, la concentration de fumée déctectée a bien descendu"
      ]
    },
    {
      "cell_type": "markdown",
      "metadata": {
        "id": "7Th8vMUH9ACU",
        "colab_type": "text"
      },
      "source": [
        "##L'influence du vent (variable aléatoire)"
      ]
    },
    {
      "cell_type": "markdown",
      "metadata": {
        "id": "WIaaIH7O9nnS",
        "colab_type": "text"
      },
      "source": [
        "Maintenant on considère que la fenêtre est ouverte, on prend sur la vitesse du vent pendant quinze jours (ces données sont accessibles sur internet) on utilise ces données pour générer une distribution de la vitesse de vent. "
      ]
    },
    {
      "cell_type": "markdown",
      "metadata": {
        "id": "tFn-2La61A5j",
        "colab_type": "text"
      },
      "source": [
        "**Attention!!!** *Quand vous exécutez les codes dans la suite, si votre ordinateur vous dit 'no module named scipy', vous devrez installer scipy dans votre ordinateur ou supprimer les codes notées dans la notation, pourtant, en les supprimant, vous ne pourriez plus voir la courbe y qui est la courbe normalisée des données du vent, mais cela n'a aucune influence des codes suivantes:)* "
      ]
    },
    {
      "cell_type": "code",
      "metadata": {
        "id": "xXwSRDktUrr1",
        "colab_type": "code",
        "outputId": "d066e3e9-e5a4-4200-a615-2ce5caf64330",
        "colab": {
          "base_uri": "https://localhost:8080/",
          "height": 297
        }
      },
      "source": [
        "import numpy as np\n",
        "import matplotlib.pyplot as plt\n",
        "from scipy.stats import norm #to delete if you don't have scipy\n",
        "\n",
        "#get the normal distribution\n",
        "wind = np.array([12, 31, 21, 19, 11, 13, 18, 10, 10, 15, 17, 15, 17, 15, 14])\n",
        "direction = np.array([163, 37, 54, 79, 201, 133, 90, 50, 10, 40, 50, 60, 60, 30, 20])#degree of deviation of wind direction from north\n",
        "r=wind*(np.sin(direction*np.pi/180)) #suppose our chamber faces west\n",
        "\n",
        "#calculate the average value\n",
        "mu =np.mean(r)\n",
        "\n",
        "#calulate the variance\n",
        "sigma =np.std(r)\n",
        "\n",
        "#draw the histogram\n",
        "num_bins = len(r)\n",
        "n, bins, patches = plt.hist(r, num_bins, density = 1, color='blue',alpha = 0.2,) \n",
        "\n",
        "#normalize the histogram \n",
        "y = norm.pdf(bins, mu, sigma) #to delete if you don't have scipy\n",
        "plt.grid(True)\n",
        "plt.plot(bins, y,'r--')#to delete if you don't have scipy\n",
        "plt.xlabel('values') \n",
        "plt.ylabel('Probability') \n",
        "plt.title('Histogram : $\\mu$=' + str(round(mu,2)) + ' $\\sigma=$'+str(round(sigma,2))) \n",
        "plt.show()\n"
      ],
      "execution_count": 20,
      "outputs": [
        {
          "output_type": "display_data",
          "data": {
            "image/png": "[encoded data removed]",
            "text/plain": [
              "<Figure size 432x288 with 1 Axes>"
            ]
          },
          "metadata": {
            "tags": [],
            "needs_background": "light"
          }
        }
      ]
    },
    {
      "cell_type": "markdown",
      "metadata": {
        "id": "OPDK-zM8DcFY",
        "colab_type": "text"
      },
      "source": [
        "Avec cette courbe normalisée, on va générer un ensemble avec 100 échantillons pour voir l'influence de la vitesse du vent $r$ sur $u$. On prend $u_0$ égal à  9 $mg.m^{-3}$. Puisque l'ensemble d'échantillonage est assez grand, l'exécution du programme va durer longtemps, je vous conseille de prendre un café et revenir après :) "
      ]
    },
    {
      "cell_type": "code",
      "metadata": {
        "id": "ghAqzjFBZ1uK",
        "colab_type": "code",
        "outputId": "727dfd00-1f9f-4320-ea97-0447a622dc2d",
        "colab": {
          "base_uri": "https://localhost:8080/",
          "height": 334
        }
      },
      "source": [
        "#calculate the detected concentration with different wind\n",
        "import time\n",
        "\n",
        "#generate 100 samples\n",
        "sample_Num = 100\n",
        "r = np.random.normal(mu, sigma, sample_Num)*1000/3600\n",
        "smoke_concentration = []\n",
        "detect_point = (3,2.5)\n",
        "alarm_count = 0\n",
        "n = 0\n",
        "\n",
        "#for each sample, calculate the detected concentration\n",
        "for r_ in r:\n",
        "  u = solver_bcs(9, r_, 500, 500)\n",
        "  detect_concentration = u(detect_point)\n",
        "  smoke_concentration.append(detect_concentration)\n",
        "  #if the dectetor alarms\n",
        "  if detect_concentration >= 5:\n",
        "    alarm_count += 1\n",
        "  #renew the progress bar\n",
        "  n += 1\n",
        "  time.sleep(0.2)\n",
        "  print(\"\\r {:.2%} loading...\".format(n/100), end=\"\")\n",
        "\n",
        "#Create the histogram  \n",
        "n, bins, patches = plt.hist(smoke_concentration, len(smoke_concentration), density=1, color='blue',alpha = 0.2)  \n",
        "plt.grid(True)\n",
        "plt.xlabel('smoke concentration') \n",
        "plt.ylabel('Comptage') \n",
        "plt.title('Histogram : $\\mu$=' + str(round(mu,2)) + ' $\\sigma=$'+str(round(sigma,2))) \n",
        "plt.show()\n",
        "print(round((alarm_count/len(smoke_concentration)*100),2),\"% possibilité que le détecteur sonne.\")"
      ],
      "execution_count": 18,
      "outputs": [
        {
          "output_type": "stream",
          "text": [
            " 100.00% loading..."
          ],
          "name": "stdout"
        },
        {
          "output_type": "display_data",
          "data": {
            "image/png": "[encoded data removed]",
            "text/plain": [
              "<Figure size 432x288 with 1 Axes>"
            ]
          },
          "metadata": {
            "tags": [],
            "needs_background": "light"
          }
        },
        {
          "output_type": "stream",
          "text": [
            "1.0 % possibilité que le détecteur sonne.\n"
          ],
          "name": "stdout"
        }
      ]
    },
    {
      "cell_type": "markdown",
      "metadata": {
        "id": "rRu0fz0cm9Be",
        "colab_type": "text"
      },
      "source": [
        "On constate que l'influence du vent $r>0$ a bien descendu la probabilité que le détecteur sonne, pourtant,si la direction du vent est à l'opposé, c'est-à-dire que $r<0$ et le vent rentre dans la chambre, alors est-ce que la concentration va devenir plus élevée ?  Pour le vérifier, on va juste changer la valeur moyenne $\\mu$ en prenant $\\mu<0$, et voici le code :"
      ]
    },
    {
      "cell_type": "code",
      "metadata": {
        "id": "UVpJ5xwKamQ_",
        "colab_type": "code",
        "outputId": "5fa8fbab-f5f8-4b15-b645-3b56d919cbba",
        "colab": {
          "base_uri": "https://localhost:8080/",
          "height": 334
        }
      },
      "source": [
        "sample_Num = 100\n",
        "r = np.random.normal(-mu, sigma, sample_Num)*1000/3600\n",
        "smoke_concentration = []\n",
        "detect_point = (3,2.5)\n",
        "alarm_count = 0\n",
        "n = 0\n",
        "\n",
        "for r_ in r:\n",
        "  u = solver_bcs(9, r_, 500, 500)\n",
        "  detect_concentration = u(detect_point)\n",
        "  smoke_concentration.append(detect_concentration)\n",
        "  if detect_concentration >= 5:\n",
        "    alarm_count += 1\n",
        "  n += 1\n",
        "  time.sleep(0.2)\n",
        "  print(\"\\r {:.2%} loading...\".format(n/100), end=\"\")\n",
        " \n",
        "n, bins, patches = plt.hist(smoke_concentration, len(smoke_concentration), density=1, color='blue',alpha = 0.2)  \n",
        "plt.grid(True)\n",
        "plt.xlabel('smoke concentration') \n",
        "plt.ylabel('Comptage') \n",
        "plt.title('Histogram : $\\mu$=' + str(round(-mu,2)) + ' $\\sigma=$'+str(round(sigma,2))) \n",
        "plt.show()\n",
        "print(round((alarm_count/len(smoke_concentration)*100),2),\"% possibilité que le détecteur sonne.\")"
      ],
      "execution_count": 19,
      "outputs": [
        {
          "output_type": "stream",
          "text": [
            " 100.00% loading..."
          ],
          "name": "stdout"
        },
        {
          "output_type": "display_data",
          "data": {
            "image/png": "[encoded data removed]",
            "text/plain": [
              "<Figure size 432x288 with 1 Axes>"
            ]
          },
          "metadata": {
            "tags": [],
            "needs_background": "light"
          }
        },
        {
          "output_type": "stream",
          "text": [
            "2.0 % possibilité que le détecteur sonne.\n"
          ],
          "name": "stdout"
        }
      ]
    },
    {
      "cell_type": "markdown",
      "metadata": {
        "id": "gan2nWqhnfj2",
        "colab_type": "text"
      },
      "source": [
        "On obeserve que avac la direction du vent $r<0$, la probalilité que le détecteur sonne devient un peu plus élevée que la probabilité de $r>0$.  "
      ]
    },
    {
      "cell_type": "markdown",
      "metadata": {
        "id": "AH7DNTjxfXdm",
        "colab_type": "text"
      },
      "source": [
        "En comparaisant avec la première partie, on peut conclure que quelque soit la direction du vent, ouvrir la fenêtre nous permet de diminuer la chance que le détecteur sonne!"
      ]
    },
    {
      "cell_type": "markdown",
      "metadata": {
        "id": "LbT3uug8uWiq",
        "colab_type": "text"
      },
      "source": [
        "# Biliographie"
      ]
    },
    {
      "cell_type": "markdown",
      "metadata": {
        "id": "3OFvUfELuiiA",
        "colab_type": "text"
      },
      "source": [
        "https://pubs.acs.org/doi/abs/10.1021/es103080p \n",
        "\n",
        "https://zhuanlan.zhihu.com/p/37241768\n",
        "\n",
        "https://www.timeanddate.com/weather/france/paris/historic?month=1&year=2020\n",
        "\n",
        "http://www-users.math.umn.edu/~arnold/8445/fenics-getting-started.pdf"
      ]
    }
  ]
}